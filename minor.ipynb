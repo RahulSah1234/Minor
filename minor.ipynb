{
  "nbformat": 4,
  "nbformat_minor": 0,
  "metadata": {
    "colab": {
      "provenance": [],
      "include_colab_link": true
    },
    "kernelspec": {
      "name": "python3",
      "display_name": "Python 3"
    },
    "language_info": {
      "name": "python"
    },
    "accelerator": "GPU",
    "gpuClass": "standard"
  },
  "cells": [
    {
      "cell_type": "markdown",
      "metadata": {
        "id": "view-in-github",
        "colab_type": "text"
      },
      "source": [
        "<a href=\"https://colab.research.google.com/github/RahulSah1234/Minor/blob/main/minor.ipynb\" target=\"_parent\"><img src=\"https://colab.research.google.com/assets/colab-badge.svg\" alt=\"Open In Colab\"/></a>"
      ]
    },
    {
      "cell_type": "code",
      "source": [
        "from google.colab import drive\n",
        "\n",
        "drive.mount('/content/gdrive',force_remount=True)"
      ],
      "metadata": {
        "colab": {
          "base_uri": "https://localhost:8080/"
        },
        "id": "uJi6B3a3fTBO",
        "outputId": "5b619668-a999-4e83-d7bb-91000f3b3580"
      },
      "execution_count": null,
      "outputs": [
        {
          "output_type": "stream",
          "name": "stdout",
          "text": [
            "Mounted at /content/gdrive\n"
          ]
        }
      ]
    },
    {
      "cell_type": "code",
      "source": [
        "%matplotlib inline\n",
        "%config InlineBackend.figure_format = 'retina'\n",
        "import os\n",
        "# import neural_structured_learning as nsl\n",
        "import glob\n",
        "import json\n",
        "import numpy as np\n",
        "\n",
        "import pandas as pd\n",
        "import matplotlib.pyplot as plt\n",
        "import tensorflow as tf\n",
        "import cv2\n",
        "from tensorflow.keras.preprocessing.image import ImageDataGenerator\n",
        "from tensorflow.keras import  applications\n",
        "from tensorflow.keras import Model\n",
        "from tensorflow.keras.models import Sequential\n",
        "from tensorflow.keras.layers import Conv2D, MaxPool2D,GlobalAveragePooling2D, Flatten, Dense, Dropout, BatchNormalization\n",
        "from tensorflow.keras.callbacks import ModelCheckpoint, EarlyStopping, ReduceLROnPlateau\n",
        "from tensorflow.keras.optimizers import Adam\n",
        "from tensorflow.keras.optimizers import SGD\n",
        "from tensorflow.keras import regularizers\n",
        "\n",
        "from keras.models import load_model\n",
        "from sklearn.metrics import confusion_matrix ,classification_report\n",
        "\n",
        "\n",
        "import itertools\n",
        "import os\n",
        "import shutil\n",
        "import random\n",
        "import glob"
      ],
      "metadata": {
        "id": "yYCcRf6jumBp"
      },
      "execution_count": null,
      "outputs": []
    },
    {
      "cell_type": "code",
      "source": [
        "pip install split-folders"
      ],
      "metadata": {
        "colab": {
          "base_uri": "https://localhost:8080/"
        },
        "id": "QiPZzmRfgHB7",
        "outputId": "bc5db01d-03aa-4daf-dfd5-6848de002713"
      },
      "execution_count": null,
      "outputs": [
        {
          "output_type": "stream",
          "name": "stdout",
          "text": [
            "Looking in indexes: https://pypi.org/simple, https://us-python.pkg.dev/colab-wheels/public/simple/\n",
            "Requirement already satisfied: split-folders in /usr/local/lib/python3.9/dist-packages (0.5.1)\n"
          ]
        }
      ]
    },
    {
      "cell_type": "code",
      "source": [
        "import splitfolders\n",
        "splitfolders.ratio(\"/content/gdrive/My Drive/output\", output=\"data_minor_        \", ratio=(.6, .2, .2), group_prefix=None, move=False)"
      ],
      "metadata": {
        "colab": {
          "base_uri": "https://localhost:8080/"
        },
        "id": "CySxujmIgHhn",
        "outputId": "3145a2cd-4bf8-4d76-9992-83a62645eb44"
      },
      "execution_count": null,
      "outputs": [
        {
          "output_type": "stream",
          "name": "stderr",
          "text": [
            "Copying files: 2830 files [00:34, 83.12 files/s] \n"
          ]
        }
      ]
    },
    {
      "cell_type": "code",
      "source": [
        "train_path=\"/content/data_minor_1/train\""
      ],
      "metadata": {
        "id": "r8jaBg69gHuz"
      },
      "execution_count": null,
      "outputs": []
    },
    {
      "cell_type": "code",
      "source": [
        "train_batches=ImageDataGenerator(zoom_range=        .5,rotation_range=90,horizontal_flip=True).flow_from_directory(directory=train_path,target_size= (224,224),batch_size=        0,shuffle=True,class_mode='categorical')"
      ],
      "metadata": {
        "colab": {
          "base_uri": "https://localhost:8080/"
        },
        "id": "Jl9ZRjgqjGgW",
        "outputId": "710362be-8955-4a6b-de19-2bd48e16385a"
      },
      "execution_count": null,
      "outputs": [
        {
          "output_type": "stream",
          "name": "stdout",
          "text": [
            "Found 1697 images belonging to 2 classes.\n"
          ]
        }
      ]
    },
    {
      "cell_type": "code",
      "source": [
        "val_path=\"/content/data_minor_1/val\""
      ],
      "metadata": {
        "id": "Kt1mUjcsjP68"
      },
      "execution_count": null,
      "outputs": []
    },
    {
      "cell_type": "markdown",
      "source": [],
      "metadata": {
        "id": "aBGO5NGDlj8Y"
      }
    },
    {
      "cell_type": "markdown",
      "source": [],
      "metadata": {
        "id": "aljHVKmYlj7P"
      }
    },
    {
      "cell_type": "markdown",
      "source": [],
      "metadata": {
        "id": "VOC60ddXlj5Q"
      }
    },
    {
      "cell_type": "markdown",
      "source": [],
      "metadata": {
        "id": "32wi-mXylj3G"
      }
    },
    {
      "cell_type": "code",
      "source": [
        "val_batches=ImageDataGenerator(zoom_range=1.5).flow_from_directory(directory=val_path,target_size= (224,224),batch_size=10,shuffle=True,class_mode='categorical')"
      ],
      "metadata": {
        "colab": {
          "base_uri": "https://localhost:8080/"
        },
        "id": "VyTnjeVZjvyf",
        "outputId": "04ab0351-ab8e-41e3-c5ee-adfc6c36418e"
      },
      "execution_count": null,
      "outputs": [
        {
          "output_type": "stream",
          "name": "stdout",
          "text": [
            "Found 565 images belonging to 2 classes.\n"
          ]
        }
      ]
    },
    {
      "cell_type": "code",
      "source": [
        "test_path=\"/content/data_minor_1/test\""
      ],
      "metadata": {
        "id": "qKP87OhvjQDr"
      },
      "execution_count": null,
      "outputs": []
    },
    {
      "cell_type": "code",
      "source": [
        "test_batches=ImageDataGenerator(zoom_range=1.5).flow_from_directory(directory=test_path,target_size= (224,224),batch_size=10,shuffle=True,class_mode='categorical')"
      ],
      "metadata": {
        "colab": {
          "base_uri": "https://localhost:8080/"
        },
        "id": "0YiX1aTyj6ut",
        "outputId": "2fb09559-b76d-4f71-81aa-7186556d8aa2"
      },
      "execution_count": null,
      "outputs": [
        {
          "output_type": "stream",
          "name": "stdout",
          "text": [
            "Found 568 images belonging to 2 classes.\n"
          ]
        }
      ]
    },
    {
      "cell_type": "code",
      "source": [
        "model = tf.keras.Sequential(\n",
        "    [\n",
        "     tf.keras.layers.Rescaling(1./255),\n",
        "     tf.keras.layers.Conv2D(32, 3, activation=\"relu\"),\n",
        "     tf.keras.layers.MaxPooling2D(),\n",
        "     tf.keras.layers.Conv2D(32, 3, activation=\"relu\"),\n",
        "     tf.keras.layers.MaxPooling2D(),\n",
        "     tf.keras.layers.Conv2D(32, 3, activation=\"relu\"),\n",
        "     tf.keras.layers.MaxPooling2D(),\n",
        "     tf.keras.layers.Flatten(),\n",
        "     tf.keras.layers.Dense(128, activation=\"relu\"),\n",
        "     tf.keras.layers.Dense(2)\n",
        "    ]\n",
        ")\n"
      ],
      "metadata": {
        "id": "sKiERvTtwRmf"
      },
      "execution_count": null,
      "outputs": []
    },
    {
      "cell_type": "code",
      "source": [
        "model.compile(optimizer=Adam(lr=0.001),loss='categorical_crossentropy',metrics=['accuracy'])"
      ],
      "metadata": {
        "id": "_2qTP0hk3OqK",
        "colab": {
          "base_uri": "https://localhost:8080/"
        },
        "outputId": "94af37d2-eda9-4097-eeca-4fc8f4adbdd5"
      },
      "execution_count": null,
      "outputs": [
        {
          "output_type": "stream",
          "name": "stderr",
          "text": [
            "WARNING:absl:`lr` is deprecated in Keras optimizer, please use `learning_rate` or use the legacy optimizer, e.g.,tf.keras.optimizers.legacy.Adam.\n"
          ]
        }
      ]
    },
    {
      "cell_type": "markdown",
      "source": [],
      "metadata": {
        "id": "l3MQ9vRSkgzb"
      }
    },
    {
      "cell_type": "code",
      "source": [
        "model.fit(\n",
        "    train_batches,\n",
        "    validation_data = val_batches,\n",
        "    epochs = 50\n",
        ")"
      ],
      "metadata": {
        "colab": {
          "base_uri": "https://localhost:8080/",
          "height": 918
        },
        "id": "ILi1YyWf3fob",
        "outputId": "2f0545e1-7024-4cfb-ef47-47dfa2104f00"
      },
      "execution_count": null,
      "outputs": [
        {
          "output_type": "stream",
          "name": "stdout",
          "text": [
            "Epoch 1/50\n",
            "70/70 [==============================] - 20s 204ms/step - loss: 0.7372 - accuracy: 0.4878 - val_loss: 0.6929 - val_accuracy: 0.4805\n",
            "Epoch 2/50\n",
            "70/70 [==============================] - 14s 203ms/step - loss: 0.6926 - accuracy: 0.4460 - val_loss: 0.6999 - val_accuracy: 0.5065\n",
            "Epoch 3/50\n",
            "70/70 [==============================] - 14s 200ms/step - loss: 0.6880 - accuracy: 0.4518 - val_loss: 0.7062 - val_accuracy: 0.4935\n",
            "Epoch 4/50\n",
            "70/70 [==============================] - 14s 196ms/step - loss: 0.6991 - accuracy: 0.4892 - val_loss: 0.6813 - val_accuracy: 0.4675\n",
            "Epoch 5/50\n",
            "70/70 [==============================] - 14s 199ms/step - loss: 0.6959 - accuracy: 0.4906 - val_loss: 0.6864 - val_accuracy: 0.4545\n",
            "Epoch 6/50\n",
            "70/70 [==============================] - 15s 219ms/step - loss: 0.6846 - accuracy: 0.4388 - val_loss: 0.6775 - val_accuracy: 0.4459\n",
            "Epoch 7/50\n",
            "70/70 [==============================] - 14s 199ms/step - loss: 0.6762 - accuracy: 0.4115 - val_loss: 0.6703 - val_accuracy: 0.4113\n",
            "Epoch 8/50\n",
            "70/70 [==============================] - 14s 196ms/step - loss: 0.6989 - accuracy: 0.4317 - val_loss: 0.6790 - val_accuracy: 0.4502\n",
            "Epoch 9/50\n",
            "70/70 [==============================] - 14s 198ms/step - loss: 0.6798 - accuracy: 0.4245 - val_loss: 0.6662 - val_accuracy: 0.3853\n",
            "Epoch 10/50\n",
            "70/70 [==============================] - 14s 197ms/step - loss: 0.6645 - accuracy: 0.3957 - val_loss: 0.6525 - val_accuracy: 0.3896\n",
            "Epoch 11/50\n",
            "70/70 [==============================] - 14s 197ms/step - loss: 0.6705 - accuracy: 0.4230 - val_loss: 0.6796 - val_accuracy: 0.4416\n",
            "Epoch 12/50\n",
            "70/70 [==============================] - 14s 198ms/step - loss: 0.6611 - accuracy: 0.3871 - val_loss: 0.6464 - val_accuracy: 0.3506\n",
            "Epoch 13/50\n",
            "70/70 [==============================] - 14s 196ms/step - loss: 0.6617 - accuracy: 0.4000 - val_loss: 0.6425 - val_accuracy: 0.3420\n",
            "Epoch 14/50\n",
            "70/70 [==============================] - 14s 200ms/step - loss: 0.6447 - accuracy: 0.3727 - val_loss: 0.6763 - val_accuracy: 0.4372\n",
            "Epoch 15/50\n",
            "28/70 [===========>..................] - ETA: 5s - loss: 0.6471 - accuracy: 0.3709"
          ]
        },
        {
          "output_type": "error",
          "ename": "KeyboardInterrupt",
          "evalue": "ignored",
          "traceback": [
            "\u001b[0;31m---------------------------------------------------------------------------\u001b[0m",
            "\u001b[0;31mKeyboardInterrupt\u001b[0m                         Traceback (most recent call last)",
            "\u001b[0;32m<ipython-input-13-073397c9bf06>\u001b[0m in \u001b[0;36m<cell line: 1>\u001b[0;34m()\u001b[0m\n\u001b[0;32m----> 1\u001b[0;31m model.fit(\n\u001b[0m\u001b[1;32m      2\u001b[0m     \u001b[0mtrain_batches\u001b[0m\u001b[0;34m,\u001b[0m\u001b[0;34m\u001b[0m\u001b[0;34m\u001b[0m\u001b[0m\n\u001b[1;32m      3\u001b[0m     \u001b[0mvalidation_data\u001b[0m \u001b[0;34m=\u001b[0m \u001b[0mval_batches\u001b[0m\u001b[0;34m,\u001b[0m\u001b[0;34m\u001b[0m\u001b[0;34m\u001b[0m\u001b[0m\n\u001b[1;32m      4\u001b[0m     \u001b[0mepochs\u001b[0m \u001b[0;34m=\u001b[0m \u001b[0;36m50\u001b[0m\u001b[0;34m\u001b[0m\u001b[0;34m\u001b[0m\u001b[0m\n\u001b[1;32m      5\u001b[0m )\n",
            "\u001b[0;32m/usr/local/lib/python3.9/dist-packages/keras/utils/traceback_utils.py\u001b[0m in \u001b[0;36merror_handler\u001b[0;34m(*args, **kwargs)\u001b[0m\n\u001b[1;32m     63\u001b[0m         \u001b[0mfiltered_tb\u001b[0m \u001b[0;34m=\u001b[0m \u001b[0;32mNone\u001b[0m\u001b[0;34m\u001b[0m\u001b[0;34m\u001b[0m\u001b[0m\n\u001b[1;32m     64\u001b[0m         \u001b[0;32mtry\u001b[0m\u001b[0;34m:\u001b[0m\u001b[0;34m\u001b[0m\u001b[0;34m\u001b[0m\u001b[0m\n\u001b[0;32m---> 65\u001b[0;31m             \u001b[0;32mreturn\u001b[0m \u001b[0mfn\u001b[0m\u001b[0;34m(\u001b[0m\u001b[0;34m*\u001b[0m\u001b[0margs\u001b[0m\u001b[0;34m,\u001b[0m \u001b[0;34m**\u001b[0m\u001b[0mkwargs\u001b[0m\u001b[0;34m)\u001b[0m\u001b[0;34m\u001b[0m\u001b[0;34m\u001b[0m\u001b[0m\n\u001b[0m\u001b[1;32m     66\u001b[0m         \u001b[0;32mexcept\u001b[0m \u001b[0mException\u001b[0m \u001b[0;32mas\u001b[0m \u001b[0me\u001b[0m\u001b[0;34m:\u001b[0m\u001b[0;34m\u001b[0m\u001b[0;34m\u001b[0m\u001b[0m\n\u001b[1;32m     67\u001b[0m             \u001b[0mfiltered_tb\u001b[0m \u001b[0;34m=\u001b[0m \u001b[0m_process_traceback_frames\u001b[0m\u001b[0;34m(\u001b[0m\u001b[0me\u001b[0m\u001b[0;34m.\u001b[0m\u001b[0m__traceback__\u001b[0m\u001b[0;34m)\u001b[0m\u001b[0;34m\u001b[0m\u001b[0;34m\u001b[0m\u001b[0m\n",
            "\u001b[0;32m/usr/local/lib/python3.9/dist-packages/keras/engine/training.py\u001b[0m in \u001b[0;36mfit\u001b[0;34m(self, x, y, batch_size, epochs, verbose, callbacks, validation_split, validation_data, shuffle, class_weight, sample_weight, initial_epoch, steps_per_epoch, validation_steps, validation_batch_size, validation_freq, max_queue_size, workers, use_multiprocessing)\u001b[0m\n\u001b[1;32m   1683\u001b[0m                         ):\n\u001b[1;32m   1684\u001b[0m                             \u001b[0mcallbacks\u001b[0m\u001b[0;34m.\u001b[0m\u001b[0mon_train_batch_begin\u001b[0m\u001b[0;34m(\u001b[0m\u001b[0mstep\u001b[0m\u001b[0;34m)\u001b[0m\u001b[0;34m\u001b[0m\u001b[0;34m\u001b[0m\u001b[0m\n\u001b[0;32m-> 1685\u001b[0;31m                             \u001b[0mtmp_logs\u001b[0m \u001b[0;34m=\u001b[0m \u001b[0mself\u001b[0m\u001b[0;34m.\u001b[0m\u001b[0mtrain_function\u001b[0m\u001b[0;34m(\u001b[0m\u001b[0miterator\u001b[0m\u001b[0;34m)\u001b[0m\u001b[0;34m\u001b[0m\u001b[0;34m\u001b[0m\u001b[0m\n\u001b[0m\u001b[1;32m   1686\u001b[0m                             \u001b[0;32mif\u001b[0m \u001b[0mdata_handler\u001b[0m\u001b[0;34m.\u001b[0m\u001b[0mshould_sync\u001b[0m\u001b[0;34m:\u001b[0m\u001b[0;34m\u001b[0m\u001b[0;34m\u001b[0m\u001b[0m\n\u001b[1;32m   1687\u001b[0m                                 \u001b[0mcontext\u001b[0m\u001b[0;34m.\u001b[0m\u001b[0masync_wait\u001b[0m\u001b[0;34m(\u001b[0m\u001b[0;34m)\u001b[0m\u001b[0;34m\u001b[0m\u001b[0;34m\u001b[0m\u001b[0m\n",
            "\u001b[0;32m/usr/local/lib/python3.9/dist-packages/tensorflow/python/util/traceback_utils.py\u001b[0m in \u001b[0;36merror_handler\u001b[0;34m(*args, **kwargs)\u001b[0m\n\u001b[1;32m    148\u001b[0m     \u001b[0mfiltered_tb\u001b[0m \u001b[0;34m=\u001b[0m \u001b[0;32mNone\u001b[0m\u001b[0;34m\u001b[0m\u001b[0;34m\u001b[0m\u001b[0m\n\u001b[1;32m    149\u001b[0m     \u001b[0;32mtry\u001b[0m\u001b[0;34m:\u001b[0m\u001b[0;34m\u001b[0m\u001b[0;34m\u001b[0m\u001b[0m\n\u001b[0;32m--> 150\u001b[0;31m       \u001b[0;32mreturn\u001b[0m \u001b[0mfn\u001b[0m\u001b[0;34m(\u001b[0m\u001b[0;34m*\u001b[0m\u001b[0margs\u001b[0m\u001b[0;34m,\u001b[0m \u001b[0;34m**\u001b[0m\u001b[0mkwargs\u001b[0m\u001b[0;34m)\u001b[0m\u001b[0;34m\u001b[0m\u001b[0;34m\u001b[0m\u001b[0m\n\u001b[0m\u001b[1;32m    151\u001b[0m     \u001b[0;32mexcept\u001b[0m \u001b[0mException\u001b[0m \u001b[0;32mas\u001b[0m \u001b[0me\u001b[0m\u001b[0;34m:\u001b[0m\u001b[0;34m\u001b[0m\u001b[0;34m\u001b[0m\u001b[0m\n\u001b[1;32m    152\u001b[0m       \u001b[0mfiltered_tb\u001b[0m \u001b[0;34m=\u001b[0m \u001b[0m_process_traceback_frames\u001b[0m\u001b[0;34m(\u001b[0m\u001b[0me\u001b[0m\u001b[0;34m.\u001b[0m\u001b[0m__traceback__\u001b[0m\u001b[0;34m)\u001b[0m\u001b[0;34m\u001b[0m\u001b[0;34m\u001b[0m\u001b[0m\n",
            "\u001b[0;32m/usr/local/lib/python3.9/dist-packages/tensorflow/python/eager/polymorphic_function/polymorphic_function.py\u001b[0m in \u001b[0;36m__call__\u001b[0;34m(self, *args, **kwds)\u001b[0m\n\u001b[1;32m    892\u001b[0m \u001b[0;34m\u001b[0m\u001b[0m\n\u001b[1;32m    893\u001b[0m       \u001b[0;32mwith\u001b[0m \u001b[0mOptionalXlaContext\u001b[0m\u001b[0;34m(\u001b[0m\u001b[0mself\u001b[0m\u001b[0;34m.\u001b[0m\u001b[0m_jit_compile\u001b[0m\u001b[0;34m)\u001b[0m\u001b[0;34m:\u001b[0m\u001b[0;34m\u001b[0m\u001b[0;34m\u001b[0m\u001b[0m\n\u001b[0;32m--> 894\u001b[0;31m         \u001b[0mresult\u001b[0m \u001b[0;34m=\u001b[0m \u001b[0mself\u001b[0m\u001b[0;34m.\u001b[0m\u001b[0m_call\u001b[0m\u001b[0;34m(\u001b[0m\u001b[0;34m*\u001b[0m\u001b[0margs\u001b[0m\u001b[0;34m,\u001b[0m \u001b[0;34m**\u001b[0m\u001b[0mkwds\u001b[0m\u001b[0;34m)\u001b[0m\u001b[0;34m\u001b[0m\u001b[0;34m\u001b[0m\u001b[0m\n\u001b[0m\u001b[1;32m    895\u001b[0m \u001b[0;34m\u001b[0m\u001b[0m\n\u001b[1;32m    896\u001b[0m       \u001b[0mnew_tracing_count\u001b[0m \u001b[0;34m=\u001b[0m \u001b[0mself\u001b[0m\u001b[0;34m.\u001b[0m\u001b[0mexperimental_get_tracing_count\u001b[0m\u001b[0;34m(\u001b[0m\u001b[0;34m)\u001b[0m\u001b[0;34m\u001b[0m\u001b[0;34m\u001b[0m\u001b[0m\n",
            "\u001b[0;32m/usr/local/lib/python3.9/dist-packages/tensorflow/python/eager/polymorphic_function/polymorphic_function.py\u001b[0m in \u001b[0;36m_call\u001b[0;34m(self, *args, **kwds)\u001b[0m\n\u001b[1;32m    924\u001b[0m       \u001b[0;31m# In this case we have created variables on the first call, so we run the\u001b[0m\u001b[0;34m\u001b[0m\u001b[0;34m\u001b[0m\u001b[0m\n\u001b[1;32m    925\u001b[0m       \u001b[0;31m# defunned version which is guaranteed to never create variables.\u001b[0m\u001b[0;34m\u001b[0m\u001b[0;34m\u001b[0m\u001b[0m\n\u001b[0;32m--> 926\u001b[0;31m       \u001b[0;32mreturn\u001b[0m \u001b[0mself\u001b[0m\u001b[0;34m.\u001b[0m\u001b[0m_no_variable_creation_fn\u001b[0m\u001b[0;34m(\u001b[0m\u001b[0;34m*\u001b[0m\u001b[0margs\u001b[0m\u001b[0;34m,\u001b[0m \u001b[0;34m**\u001b[0m\u001b[0mkwds\u001b[0m\u001b[0;34m)\u001b[0m  \u001b[0;31m# pylint: disable=not-callable\u001b[0m\u001b[0;34m\u001b[0m\u001b[0;34m\u001b[0m\u001b[0m\n\u001b[0m\u001b[1;32m    927\u001b[0m     \u001b[0;32melif\u001b[0m \u001b[0mself\u001b[0m\u001b[0;34m.\u001b[0m\u001b[0m_variable_creation_fn\u001b[0m \u001b[0;32mis\u001b[0m \u001b[0;32mnot\u001b[0m \u001b[0;32mNone\u001b[0m\u001b[0;34m:\u001b[0m\u001b[0;34m\u001b[0m\u001b[0;34m\u001b[0m\u001b[0m\n\u001b[1;32m    928\u001b[0m       \u001b[0;31m# Release the lock early so that multiple threads can perform the call\u001b[0m\u001b[0;34m\u001b[0m\u001b[0;34m\u001b[0m\u001b[0m\n",
            "\u001b[0;32m/usr/local/lib/python3.9/dist-packages/tensorflow/python/eager/polymorphic_function/tracing_compiler.py\u001b[0m in \u001b[0;36m__call__\u001b[0;34m(self, *args, **kwargs)\u001b[0m\n\u001b[1;32m    141\u001b[0m       (concrete_function,\n\u001b[1;32m    142\u001b[0m        filtered_flat_args) = self._maybe_define_function(args, kwargs)\n\u001b[0;32m--> 143\u001b[0;31m     return concrete_function._call_flat(\n\u001b[0m\u001b[1;32m    144\u001b[0m         filtered_flat_args, captured_inputs=concrete_function.captured_inputs)  # pylint: disable=protected-access\n\u001b[1;32m    145\u001b[0m \u001b[0;34m\u001b[0m\u001b[0m\n",
            "\u001b[0;32m/usr/local/lib/python3.9/dist-packages/tensorflow/python/eager/polymorphic_function/monomorphic_function.py\u001b[0m in \u001b[0;36m_call_flat\u001b[0;34m(self, args, captured_inputs, cancellation_manager)\u001b[0m\n\u001b[1;32m   1755\u001b[0m         and executing_eagerly):\n\u001b[1;32m   1756\u001b[0m       \u001b[0;31m# No tape is watching; skip to running the function.\u001b[0m\u001b[0;34m\u001b[0m\u001b[0;34m\u001b[0m\u001b[0m\n\u001b[0;32m-> 1757\u001b[0;31m       return self._build_call_outputs(self._inference_function.call(\n\u001b[0m\u001b[1;32m   1758\u001b[0m           ctx, args, cancellation_manager=cancellation_manager))\n\u001b[1;32m   1759\u001b[0m     forward_backward = self._select_forward_and_backward_functions(\n",
            "\u001b[0;32m/usr/local/lib/python3.9/dist-packages/tensorflow/python/eager/polymorphic_function/monomorphic_function.py\u001b[0m in \u001b[0;36mcall\u001b[0;34m(self, ctx, args, cancellation_manager)\u001b[0m\n\u001b[1;32m    379\u001b[0m       \u001b[0;32mwith\u001b[0m \u001b[0m_InterpolateFunctionError\u001b[0m\u001b[0;34m(\u001b[0m\u001b[0mself\u001b[0m\u001b[0;34m)\u001b[0m\u001b[0;34m:\u001b[0m\u001b[0;34m\u001b[0m\u001b[0;34m\u001b[0m\u001b[0m\n\u001b[1;32m    380\u001b[0m         \u001b[0;32mif\u001b[0m \u001b[0mcancellation_manager\u001b[0m \u001b[0;32mis\u001b[0m \u001b[0;32mNone\u001b[0m\u001b[0;34m:\u001b[0m\u001b[0;34m\u001b[0m\u001b[0;34m\u001b[0m\u001b[0m\n\u001b[0;32m--> 381\u001b[0;31m           outputs = execute.execute(\n\u001b[0m\u001b[1;32m    382\u001b[0m               \u001b[0mstr\u001b[0m\u001b[0;34m(\u001b[0m\u001b[0mself\u001b[0m\u001b[0;34m.\u001b[0m\u001b[0msignature\u001b[0m\u001b[0;34m.\u001b[0m\u001b[0mname\u001b[0m\u001b[0;34m)\u001b[0m\u001b[0;34m,\u001b[0m\u001b[0;34m\u001b[0m\u001b[0;34m\u001b[0m\u001b[0m\n\u001b[1;32m    383\u001b[0m               \u001b[0mnum_outputs\u001b[0m\u001b[0;34m=\u001b[0m\u001b[0mself\u001b[0m\u001b[0;34m.\u001b[0m\u001b[0m_num_outputs\u001b[0m\u001b[0;34m,\u001b[0m\u001b[0;34m\u001b[0m\u001b[0;34m\u001b[0m\u001b[0m\n",
            "\u001b[0;32m/usr/local/lib/python3.9/dist-packages/tensorflow/python/eager/execute.py\u001b[0m in \u001b[0;36mquick_execute\u001b[0;34m(op_name, num_outputs, inputs, attrs, ctx, name)\u001b[0m\n\u001b[1;32m     50\u001b[0m   \u001b[0;32mtry\u001b[0m\u001b[0;34m:\u001b[0m\u001b[0;34m\u001b[0m\u001b[0;34m\u001b[0m\u001b[0m\n\u001b[1;32m     51\u001b[0m     \u001b[0mctx\u001b[0m\u001b[0;34m.\u001b[0m\u001b[0mensure_initialized\u001b[0m\u001b[0;34m(\u001b[0m\u001b[0;34m)\u001b[0m\u001b[0;34m\u001b[0m\u001b[0;34m\u001b[0m\u001b[0m\n\u001b[0;32m---> 52\u001b[0;31m     tensors = pywrap_tfe.TFE_Py_Execute(ctx._handle, device_name, op_name,\n\u001b[0m\u001b[1;32m     53\u001b[0m                                         inputs, attrs, num_outputs)\n\u001b[1;32m     54\u001b[0m   \u001b[0;32mexcept\u001b[0m \u001b[0mcore\u001b[0m\u001b[0;34m.\u001b[0m\u001b[0m_NotOkStatusException\u001b[0m \u001b[0;32mas\u001b[0m \u001b[0me\u001b[0m\u001b[0;34m:\u001b[0m\u001b[0;34m\u001b[0m\u001b[0;34m\u001b[0m\u001b[0m\n",
            "\u001b[0;31mKeyboardInterrupt\u001b[0m: "
          ]
        }
      ]
    },
    {
      "cell_type": "code",
      "source": [
        "model.evaluate(test_batches)\n"
      ],
      "metadata": {
        "colab": {
          "base_uri": "https://localhost:8080/"
        },
        "id": "AJalZYGa3tKG",
        "outputId": "2668c0cd-54bb-43f9-953c-5bb8eb98e7aa"
      },
      "execution_count": null,
      "outputs": [
        {
          "output_type": "stream",
          "name": "stdout",
          "text": [
            "30/30 [==============================] - 6s 205ms/step - loss: 0.6463 - accuracy: 0.6486\n"
          ]
        },
        {
          "output_type": "execute_result",
          "data": {
            "text/plain": [
              "[0.6462623476982117, 0.6486486196517944]"
            ]
          },
          "metadata": {},
          "execution_count": 14
        }
      ]
    },
    {
      "cell_type": "code",
      "source": [
        "\n",
        "test_batches.class_indices"
      ],
      "metadata": {
        "id": "bVSQwZ3taJW3",
        "colab": {
          "base_uri": "https://localhost:8080/"
        },
        "outputId": "3e8b6e03-a1cb-4dff-b7bb-f04745f1bdfb"
      },
      "execution_count": null,
      "outputs": [
        {
          "output_type": "execute_result",
          "data": {
            "text/plain": [
              "{'Healthy': 0, 'Unhealthy': 1}"
            ]
          },
          "metadata": {},
          "execution_count": 13
        }
      ]
    },
    {
      "cell_type": "markdown",
      "source": [],
      "metadata": {
        "id": "NbsnejRg1-oV"
      }
    },
    {
      "cell_type": "code",
      "source": [
        "\n",
        "for images,labels in test_batches:\n",
        "  classifications=model(images)"
      ],
      "metadata": {
        "colab": {
          "base_uri": "https://localhost:8080/",
          "height": 333
        },
        "id": "67RlOX2CoIIe",
        "outputId": "d1bcc4e2-bbbf-40f7-9b7e-ff2d91048d39"
      },
      "execution_count": null,
      "outputs": [
        {
          "output_type": "error",
          "ename": "KeyboardInterrupt",
          "evalue": "ignored",
          "traceback": [
            "\u001b[0;31m---------------------------------------------------------------------------\u001b[0m",
            "\u001b[0;31mKeyboardInterrupt\u001b[0m                         Traceback (most recent call last)",
            "\u001b[0;32m<ipython-input-16-49ccb6710464>\u001b[0m in \u001b[0;36m<cell line: 1>\u001b[0;34m()\u001b[0m\n\u001b[0;32m----> 1\u001b[0;31m \u001b[0;32mfor\u001b[0m \u001b[0mimages\u001b[0m\u001b[0;34m,\u001b[0m\u001b[0mlabels\u001b[0m \u001b[0;32min\u001b[0m \u001b[0mtest_batches\u001b[0m\u001b[0;34m:\u001b[0m\u001b[0;34m\u001b[0m\u001b[0;34m\u001b[0m\u001b[0m\n\u001b[0m\u001b[1;32m      2\u001b[0m   \u001b[0mclassifications\u001b[0m\u001b[0;34m=\u001b[0m\u001b[0mmodel\u001b[0m\u001b[0;34m(\u001b[0m\u001b[0mimages\u001b[0m\u001b[0;34m)\u001b[0m\u001b[0;34m\u001b[0m\u001b[0;34m\u001b[0m\u001b[0m\n",
            "\u001b[0;32m/usr/local/lib/python3.9/dist-packages/keras/preprocessing/image.py\u001b[0m in \u001b[0;36m__next__\u001b[0;34m(self, *args, **kwargs)\u001b[0m\n\u001b[1;32m    154\u001b[0m \u001b[0;34m\u001b[0m\u001b[0m\n\u001b[1;32m    155\u001b[0m     \u001b[0;32mdef\u001b[0m \u001b[0m__next__\u001b[0m\u001b[0;34m(\u001b[0m\u001b[0mself\u001b[0m\u001b[0;34m,\u001b[0m \u001b[0;34m*\u001b[0m\u001b[0margs\u001b[0m\u001b[0;34m,\u001b[0m \u001b[0;34m**\u001b[0m\u001b[0mkwargs\u001b[0m\u001b[0;34m)\u001b[0m\u001b[0;34m:\u001b[0m\u001b[0;34m\u001b[0m\u001b[0;34m\u001b[0m\u001b[0m\n\u001b[0;32m--> 156\u001b[0;31m         \u001b[0;32mreturn\u001b[0m \u001b[0mself\u001b[0m\u001b[0;34m.\u001b[0m\u001b[0mnext\u001b[0m\u001b[0;34m(\u001b[0m\u001b[0;34m*\u001b[0m\u001b[0margs\u001b[0m\u001b[0;34m,\u001b[0m \u001b[0;34m**\u001b[0m\u001b[0mkwargs\u001b[0m\u001b[0;34m)\u001b[0m\u001b[0;34m\u001b[0m\u001b[0;34m\u001b[0m\u001b[0m\n\u001b[0m\u001b[1;32m    157\u001b[0m \u001b[0;34m\u001b[0m\u001b[0m\n\u001b[1;32m    158\u001b[0m     \u001b[0;32mdef\u001b[0m \u001b[0mnext\u001b[0m\u001b[0;34m(\u001b[0m\u001b[0mself\u001b[0m\u001b[0;34m)\u001b[0m\u001b[0;34m:\u001b[0m\u001b[0;34m\u001b[0m\u001b[0;34m\u001b[0m\u001b[0m\n",
            "\u001b[0;32m/usr/local/lib/python3.9/dist-packages/keras/preprocessing/image.py\u001b[0m in \u001b[0;36mnext\u001b[0;34m(self)\u001b[0m\n\u001b[1;32m    166\u001b[0m         \u001b[0;31m# The transformation of images is not under thread lock\u001b[0m\u001b[0;34m\u001b[0m\u001b[0;34m\u001b[0m\u001b[0m\n\u001b[1;32m    167\u001b[0m         \u001b[0;31m# so it can be done in parallel\u001b[0m\u001b[0;34m\u001b[0m\u001b[0;34m\u001b[0m\u001b[0m\n\u001b[0;32m--> 168\u001b[0;31m         \u001b[0;32mreturn\u001b[0m \u001b[0mself\u001b[0m\u001b[0;34m.\u001b[0m\u001b[0m_get_batches_of_transformed_samples\u001b[0m\u001b[0;34m(\u001b[0m\u001b[0mindex_array\u001b[0m\u001b[0;34m)\u001b[0m\u001b[0;34m\u001b[0m\u001b[0;34m\u001b[0m\u001b[0m\n\u001b[0m\u001b[1;32m    169\u001b[0m \u001b[0;34m\u001b[0m\u001b[0m\n\u001b[1;32m    170\u001b[0m     \u001b[0;32mdef\u001b[0m \u001b[0m_get_batches_of_transformed_samples\u001b[0m\u001b[0;34m(\u001b[0m\u001b[0mself\u001b[0m\u001b[0;34m,\u001b[0m \u001b[0mindex_array\u001b[0m\u001b[0;34m)\u001b[0m\u001b[0;34m:\u001b[0m\u001b[0;34m\u001b[0m\u001b[0;34m\u001b[0m\u001b[0m\n",
            "\u001b[0;32m/usr/local/lib/python3.9/dist-packages/keras/preprocessing/image.py\u001b[0m in \u001b[0;36m_get_batches_of_transformed_samples\u001b[0;34m(self, index_array)\u001b[0m\n\u001b[1;32m    368\u001b[0m         \u001b[0mfilepaths\u001b[0m \u001b[0;34m=\u001b[0m \u001b[0mself\u001b[0m\u001b[0;34m.\u001b[0m\u001b[0mfilepaths\u001b[0m\u001b[0;34m\u001b[0m\u001b[0;34m\u001b[0m\u001b[0m\n\u001b[1;32m    369\u001b[0m         \u001b[0;32mfor\u001b[0m \u001b[0mi\u001b[0m\u001b[0;34m,\u001b[0m \u001b[0mj\u001b[0m \u001b[0;32min\u001b[0m \u001b[0menumerate\u001b[0m\u001b[0;34m(\u001b[0m\u001b[0mindex_array\u001b[0m\u001b[0;34m)\u001b[0m\u001b[0;34m:\u001b[0m\u001b[0;34m\u001b[0m\u001b[0;34m\u001b[0m\u001b[0m\n\u001b[0;32m--> 370\u001b[0;31m             img = image_utils.load_img(\n\u001b[0m\u001b[1;32m    371\u001b[0m                 \u001b[0mfilepaths\u001b[0m\u001b[0;34m[\u001b[0m\u001b[0mj\u001b[0m\u001b[0;34m]\u001b[0m\u001b[0;34m,\u001b[0m\u001b[0;34m\u001b[0m\u001b[0;34m\u001b[0m\u001b[0m\n\u001b[1;32m    372\u001b[0m                 \u001b[0mcolor_mode\u001b[0m\u001b[0;34m=\u001b[0m\u001b[0mself\u001b[0m\u001b[0;34m.\u001b[0m\u001b[0mcolor_mode\u001b[0m\u001b[0;34m,\u001b[0m\u001b[0;34m\u001b[0m\u001b[0;34m\u001b[0m\u001b[0m\n",
            "\u001b[0;32m/usr/local/lib/python3.9/dist-packages/keras/utils/image_utils.py\u001b[0m in \u001b[0;36mload_img\u001b[0;34m(path, grayscale, color_mode, target_size, interpolation, keep_aspect_ratio)\u001b[0m\n\u001b[1;32m    477\u001b[0m                 \u001b[0mimg\u001b[0m \u001b[0;34m=\u001b[0m \u001b[0mimg\u001b[0m\u001b[0;34m.\u001b[0m\u001b[0mresize\u001b[0m\u001b[0;34m(\u001b[0m\u001b[0mwidth_height_tuple\u001b[0m\u001b[0;34m,\u001b[0m \u001b[0mresample\u001b[0m\u001b[0;34m,\u001b[0m \u001b[0mbox\u001b[0m\u001b[0;34m=\u001b[0m\u001b[0mcrop_box\u001b[0m\u001b[0;34m)\u001b[0m\u001b[0;34m\u001b[0m\u001b[0;34m\u001b[0m\u001b[0m\n\u001b[1;32m    478\u001b[0m             \u001b[0;32melse\u001b[0m\u001b[0;34m:\u001b[0m\u001b[0;34m\u001b[0m\u001b[0;34m\u001b[0m\u001b[0m\n\u001b[0;32m--> 479\u001b[0;31m                 \u001b[0mimg\u001b[0m \u001b[0;34m=\u001b[0m \u001b[0mimg\u001b[0m\u001b[0;34m.\u001b[0m\u001b[0mresize\u001b[0m\u001b[0;34m(\u001b[0m\u001b[0mwidth_height_tuple\u001b[0m\u001b[0;34m,\u001b[0m \u001b[0mresample\u001b[0m\u001b[0;34m)\u001b[0m\u001b[0;34m\u001b[0m\u001b[0;34m\u001b[0m\u001b[0m\n\u001b[0m\u001b[1;32m    480\u001b[0m     \u001b[0;32mreturn\u001b[0m \u001b[0mimg\u001b[0m\u001b[0;34m\u001b[0m\u001b[0;34m\u001b[0m\u001b[0m\n",
            "\u001b[0;32m/usr/local/lib/python3.9/dist-packages/PIL/Image.py\u001b[0m in \u001b[0;36mresize\u001b[0;34m(self, size, resample, box, reducing_gap)\u001b[0m\n\u001b[1;32m   1987\u001b[0m             \u001b[0;32mreturn\u001b[0m \u001b[0mim\u001b[0m\u001b[0;34m.\u001b[0m\u001b[0mconvert\u001b[0m\u001b[0;34m(\u001b[0m\u001b[0mself\u001b[0m\u001b[0;34m.\u001b[0m\u001b[0mmode\u001b[0m\u001b[0;34m)\u001b[0m\u001b[0;34m\u001b[0m\u001b[0;34m\u001b[0m\u001b[0m\n\u001b[1;32m   1988\u001b[0m \u001b[0;34m\u001b[0m\u001b[0m\n\u001b[0;32m-> 1989\u001b[0;31m         \u001b[0mself\u001b[0m\u001b[0;34m.\u001b[0m\u001b[0mload\u001b[0m\u001b[0;34m(\u001b[0m\u001b[0;34m)\u001b[0m\u001b[0;34m\u001b[0m\u001b[0;34m\u001b[0m\u001b[0m\n\u001b[0m\u001b[1;32m   1990\u001b[0m \u001b[0;34m\u001b[0m\u001b[0m\n\u001b[1;32m   1991\u001b[0m         \u001b[0;32mif\u001b[0m \u001b[0mreducing_gap\u001b[0m \u001b[0;32mis\u001b[0m \u001b[0;32mnot\u001b[0m \u001b[0;32mNone\u001b[0m \u001b[0;32mand\u001b[0m \u001b[0mresample\u001b[0m \u001b[0;34m!=\u001b[0m \u001b[0mNEAREST\u001b[0m\u001b[0;34m:\u001b[0m\u001b[0;34m\u001b[0m\u001b[0;34m\u001b[0m\u001b[0m\n",
            "\u001b[0;32m/usr/local/lib/python3.9/dist-packages/PIL/ImageFile.py\u001b[0m in \u001b[0;36mload\u001b[0;34m(self)\u001b[0m\n\u001b[1;32m    253\u001b[0m \u001b[0;34m\u001b[0m\u001b[0m\n\u001b[1;32m    254\u001b[0m                             \u001b[0mb\u001b[0m \u001b[0;34m=\u001b[0m \u001b[0mb\u001b[0m \u001b[0;34m+\u001b[0m \u001b[0ms\u001b[0m\u001b[0;34m\u001b[0m\u001b[0;34m\u001b[0m\u001b[0m\n\u001b[0;32m--> 255\u001b[0;31m                             \u001b[0mn\u001b[0m\u001b[0;34m,\u001b[0m \u001b[0merr_code\u001b[0m \u001b[0;34m=\u001b[0m \u001b[0mdecoder\u001b[0m\u001b[0;34m.\u001b[0m\u001b[0mdecode\u001b[0m\u001b[0;34m(\u001b[0m\u001b[0mb\u001b[0m\u001b[0;34m)\u001b[0m\u001b[0;34m\u001b[0m\u001b[0;34m\u001b[0m\u001b[0m\n\u001b[0m\u001b[1;32m    256\u001b[0m                             \u001b[0;32mif\u001b[0m \u001b[0mn\u001b[0m \u001b[0;34m<\u001b[0m \u001b[0;36m0\u001b[0m\u001b[0;34m:\u001b[0m\u001b[0;34m\u001b[0m\u001b[0;34m\u001b[0m\u001b[0m\n\u001b[1;32m    257\u001b[0m                                 \u001b[0;32mbreak\u001b[0m\u001b[0;34m\u001b[0m\u001b[0;34m\u001b[0m\u001b[0m\n",
            "\u001b[0;31mKeyboardInterrupt\u001b[0m: "
          ]
        }
      ]
    },
    {
      "cell_type": "code",
      "source": [
        "prediction=model.predict(x=test_batches)"
      ],
      "metadata": {
        "id": "vuBJcda5qqB3",
        "colab": {
          "base_uri": "https://localhost:8080/"
        },
        "outputId": "b3b51ddc-f215-4b78-823b-fdc46c99bb1b"
      },
      "execution_count": null,
      "outputs": [
        {
          "output_type": "stream",
          "name": "stdout",
          "text": [
            "30/30 [==============================] - 4s 133ms/step\n"
          ]
        }
      ]
    },
    {
      "cell_type": "code",
      "source": [
        "prediction"
      ],
      "metadata": {
        "id": "Y0RP9l6kpexS",
        "colab": {
          "base_uri": "https://localhost:8080/"
        },
        "outputId": "6d38da91-5afa-43a0-b729-b1b2d718e483"
      },
      "execution_count": null,
      "outputs": [
        {
          "output_type": "execute_result",
          "data": {
            "text/plain": [
              "array([[ 796.1973 , 1105.7834 ],\n",
              "       [ 800.0875 , 1395.7224 ],\n",
              "       [ 737.99475,  882.1707 ],\n",
              "       [1128.6957 , 2699.1697 ],\n",
              "       [ 847.40497, 2353.7026 ],\n",
              "       [ 762.39545, 1744.5896 ],\n",
              "       [ 428.3612 , 1366.0204 ],\n",
              "       [ 769.1406 , 2070.7747 ],\n",
              "       [ 209.05122,  525.2293 ],\n",
              "       [ 361.8412 , 1237.3765 ],\n",
              "       [ 219.71954,  468.73294],\n",
              "       [ 559.0471 , 1445.958  ],\n",
              "       [ 668.39966,  686.6831 ],\n",
              "       [ 773.6548 , 1529.526  ],\n",
              "       [1102.782  , 2472.6506 ],\n",
              "       [ 531.1903 ,  642.0466 ],\n",
              "       [ 562.0887 , 1202.8094 ],\n",
              "       [ 503.9019 , 1523.386  ],\n",
              "       [ 656.8456 ,  423.31754],\n",
              "       [ 440.91913,  733.65204],\n",
              "       [ 976.5588 , 2323.3994 ],\n",
              "       [ 896.8866 , 2105.4768 ],\n",
              "       [ 414.70734,  957.83636],\n",
              "       [ 505.2951 , 1274.0304 ],\n",
              "       [ 492.75342, 1080.9595 ],\n",
              "       [ 358.91864,  726.58   ],\n",
              "       [ 588.9207 , 1378.3068 ],\n",
              "       [ 280.52594,  800.0931 ],\n",
              "       [ 678.54034, 1603.7666 ],\n",
              "       [ 880.707  , 2192.2234 ],\n",
              "       [ 785.5378 , 1546.5803 ],\n",
              "       [ 231.42177,  147.55562],\n",
              "       [ 468.63898, 1134.6415 ],\n",
              "       [ 779.63354, 1972.7019 ],\n",
              "       [ 278.206  ,  771.941  ],\n",
              "       [ 706.0345 , 1963.4545 ],\n",
              "       [ 396.37738,  917.9669 ],\n",
              "       [ 860.7129 , 2433.7458 ],\n",
              "       [ 448.57257,  856.6169 ],\n",
              "       [ 846.3366 , 1920.2219 ],\n",
              "       [ 577.3913 , 1122.9629 ],\n",
              "       [ 423.57785,  687.06244],\n",
              "       [1046.0933 , 2223.3005 ],\n",
              "       [ 401.7754 , 1261.1833 ],\n",
              "       [ 980.6364 , 2136.9583 ],\n",
              "       [ 577.14856, 2060.3423 ],\n",
              "       [ 417.04037,  152.43576],\n",
              "       [ 663.1974 , 1606.4966 ],\n",
              "       [ 552.64026, 1499.5686 ],\n",
              "       [ 992.24164, 1991.7822 ],\n",
              "       [ 342.75952,  919.4361 ],\n",
              "       [ 523.18787, 1609.4089 ],\n",
              "       [1075.1722 , 2783.3042 ],\n",
              "       [ 610.40106, 1365.6499 ],\n",
              "       [ 509.07568, 1125.1802 ],\n",
              "       [ 398.22604,  980.6296 ],\n",
              "       [ 461.2255 ,  915.439  ],\n",
              "       [ 800.04285, 1977.1621 ],\n",
              "       [ 544.4495 , 1719.8435 ],\n",
              "       [ 398.0948 ,  671.638  ],\n",
              "       [ 655.5149 , 1593.5797 ],\n",
              "       [ 750.08685, 1875.6183 ],\n",
              "       [ 835.4609 , 2122.8232 ],\n",
              "       [ 746.8439 , 1911.5408 ],\n",
              "       [ 272.46695,   74.14111],\n",
              "       [ 644.1637 ,  801.70374],\n",
              "       [ 597.2074 , 1365.6057 ],\n",
              "       [2224.617  , 5279.8965 ],\n",
              "       [ 796.31067, 2231.1416 ],\n",
              "       [ 809.4297 , 2027.8037 ],\n",
              "       [1443.635  , 3788.3284 ],\n",
              "       [ 714.0889 , 2072.7334 ],\n",
              "       [1127.1208 , 2818.3875 ],\n",
              "       [ 692.673  , 1353.9014 ],\n",
              "       [ 586.0094 , 1506.6908 ],\n",
              "       [ 665.38214, 1785.5193 ],\n",
              "       [ 528.05804,  848.4377 ],\n",
              "       [1158.7544 , 2673.4937 ],\n",
              "       [ 610.54443,  528.3339 ],\n",
              "       [ 627.5436 ,  659.8299 ],\n",
              "       [ 388.8731 ,  497.57965],\n",
              "       [1269.5298 , 3354.836  ],\n",
              "       [ 164.35727,   67.3813 ],\n",
              "       [ 419.09464, 1068.6538 ],\n",
              "       [ 365.27063, 1090.8436 ],\n",
              "       [ 890.3671 , 2096.9072 ],\n",
              "       [ 730.88055, 1123.584  ],\n",
              "       [ 428.44067, 1069.4648 ],\n",
              "       [ 438.32806,  908.7946 ],\n",
              "       [ 463.1276 ,  672.6993 ],\n",
              "       [ 390.92932,  182.69466],\n",
              "       [ 363.61282, 1134.3896 ],\n",
              "       [ 763.90125, 1644.8193 ],\n",
              "       [ 681.63367, 1434.4073 ],\n",
              "       [ 843.0746 , 1734.4191 ],\n",
              "       [ 716.96027, 1493.4413 ],\n",
              "       [ 410.81012,  768.5278 ],\n",
              "       [ 662.09   , 1184.212  ],\n",
              "       [ 889.3892 , 1801.5854 ],\n",
              "       [ 758.37665, 1796.3921 ],\n",
              "       [ 517.9687 ,  986.3642 ],\n",
              "       [ 823.57355, 1808.7949 ],\n",
              "       [1193.9796 , 2960.4294 ],\n",
              "       [ 737.37506, 2260.4849 ],\n",
              "       [ 897.9699 , 2121.3867 ],\n",
              "       [ 971.22614, 2569.8242 ],\n",
              "       [ 475.55035,  921.2347 ],\n",
              "       [ 638.7807 , 1654.4565 ],\n",
              "       [ 772.2641 , 1893.4636 ],\n",
              "       [1006.5883 , 1933.2446 ],\n",
              "       [ 337.6909 ,  409.79507],\n",
              "       [ 439.33478,  582.0408 ],\n",
              "       [ 564.3653 , 1100.406  ],\n",
              "       [ 679.4574 , 1644.6686 ],\n",
              "       [ 525.301  ,  771.7111 ],\n",
              "       [1078.1494 , 2489.1975 ],\n",
              "       [ 878.31616, 2180.8474 ],\n",
              "       [ 988.8625 , 1966.348  ],\n",
              "       [ 796.12103, 1593.8252 ],\n",
              "       [ 341.52707,  646.1711 ],\n",
              "       [1098.34   , 2797.673  ],\n",
              "       [ 673.6152 , 1949.7305 ],\n",
              "       [ 615.4711 , 1451.2382 ],\n",
              "       [ 762.3807 , 1707.1875 ],\n",
              "       [ 727.2745 , 1626.9199 ],\n",
              "       [ 498.32172, 1553.6328 ],\n",
              "       [ 510.67816,  775.1634 ],\n",
              "       [ 703.8375 , 1220.0889 ],\n",
              "       [ 633.7534 , 1003.6513 ],\n",
              "       [ 585.7512 ,  931.6842 ],\n",
              "       [ 641.5419 , 1380.6747 ],\n",
              "       [ 541.19135,  904.3882 ],\n",
              "       [ 491.8569 , 1302.9976 ],\n",
              "       [1063.7195 , 2863.4573 ],\n",
              "       [ 423.28946, 1106.6025 ],\n",
              "       [ 706.0629 , 1247.9792 ],\n",
              "       [ 591.2007 , 1474.2463 ],\n",
              "       [ 544.1782 ,  338.7758 ],\n",
              "       [ 539.745  , 1400.0818 ],\n",
              "       [ 592.1217 , 1463.862  ],\n",
              "       [ 884.146  , 2410.5984 ],\n",
              "       [ 862.32434, 2217.2747 ],\n",
              "       [ 995.9947 , 2651.5657 ],\n",
              "       [ 358.54007,  282.10455],\n",
              "       [ 512.9576 ,  865.19037],\n",
              "       [ 541.3204 ,  581.81537],\n",
              "       [ 880.5794 , 1646.8921 ],\n",
              "       [1111.165  , 2530.8313 ],\n",
              "       [1451.555  , 3480.703  ],\n",
              "       [1017.69196, 2327.1836 ],\n",
              "       [1126.0779 , 1912.3695 ],\n",
              "       [ 884.84784, 1412.3735 ],\n",
              "       [1003.6474 , 2241.1309 ],\n",
              "       [1502.5308 , 3590.3757 ],\n",
              "       [ 462.11316, 1065.8677 ],\n",
              "       [ 609.84   , 1224.9108 ],\n",
              "       [1170.9409 , 2777.4792 ],\n",
              "       [ 808.58453, 1503.5723 ],\n",
              "       [1607.5605 , 3301.8474 ],\n",
              "       [ 740.8001 , 2012.3813 ],\n",
              "       [1390.4814 , 3217.7449 ],\n",
              "       [ 713.2331 , 1613.1667 ],\n",
              "       [ 770.00433, 1526.9813 ],\n",
              "       [ 544.2272 , 1039.7979 ],\n",
              "       [ 900.1567 , 2074.4968 ],\n",
              "       [1236.1455 , 1857.3962 ],\n",
              "       [1660.8422 , 3722.5833 ],\n",
              "       [1006.5033 , 2358.7039 ],\n",
              "       [ 501.5326 , 1073.0225 ],\n",
              "       [ 775.90967, 2042.647  ],\n",
              "       [ 658.21216, 1844.03   ],\n",
              "       [1074.1267 , 1937.5901 ],\n",
              "       [ 239.72365,  673.6787 ],\n",
              "       [ 376.8672 , 1002.40607],\n",
              "       [ 986.7456 , 2790.7888 ],\n",
              "       [ 662.4762 , 1022.6928 ],\n",
              "       [ 607.5391 , 1141.3069 ],\n",
              "       [ 309.7834 ,  358.24646],\n",
              "       [ 496.58282, 1226.4167 ],\n",
              "       [ 516.48315, 1191.2244 ],\n",
              "       [ 724.1223 ,  575.6217 ],\n",
              "       [ 779.9364 , 1030.4059 ],\n",
              "       [ 567.94464,  390.6539 ],\n",
              "       [ 494.8446 ,  641.97784],\n",
              "       [ 728.72437, 1688.989  ],\n",
              "       [ 481.08884, 1044.0907 ],\n",
              "       [1139.9463 , 1438.8164 ],\n",
              "       [ 731.5284 , 1584.5764 ],\n",
              "       [ 525.37976, 1047.5281 ],\n",
              "       [ 592.94653, 1259.0122 ],\n",
              "       [ 298.39478,  817.7684 ],\n",
              "       [ 673.80695, 1357.3643 ],\n",
              "       [ 619.9185 , 1387.0494 ],\n",
              "       [ 900.0407 , 2055.7314 ],\n",
              "       [ 416.103  , 1195.101  ],\n",
              "       [ 672.8956 , 1685.4216 ],\n",
              "       [ 602.6628 , 1045.8269 ],\n",
              "       [ 925.59753, 2583.3904 ],\n",
              "       [ 600.3284 , 1477.1576 ],\n",
              "       [ 678.7419 , 1381.9734 ],\n",
              "       [ 466.52133, 1442.6735 ],\n",
              "       [ 608.1453 , 1118.6333 ],\n",
              "       [ 676.4963 , 1025.3672 ],\n",
              "       [ 329.13467,  714.4813 ],\n",
              "       [ 458.69394, 1127.8192 ],\n",
              "       [ 538.3943 , 1377.4526 ],\n",
              "       [ 727.20447, 1299.3402 ],\n",
              "       [1295.6031 , 2866.4133 ],\n",
              "       [ 772.1493 , 1519.9695 ],\n",
              "       [1016.53033, 1951.2551 ],\n",
              "       [ 641.89935, 1406.734  ],\n",
              "       [ 611.6219 ,  941.44806],\n",
              "       [ 353.74362,  433.39133],\n",
              "       [ 440.94736,  901.76117],\n",
              "       [ 432.83374,  555.4243 ],\n",
              "       [ 488.91757, 1660.9792 ],\n",
              "       [ 523.84375,  826.2277 ],\n",
              "       [ 427.271  , 1440.9841 ],\n",
              "       [ 530.06195, 1028.9758 ],\n",
              "       [1087.1748 , 2454.43   ],\n",
              "       [ 320.55292,  841.6989 ],\n",
              "       [ 545.7946 , 1216.8124 ],\n",
              "       [ 949.43616, 1868.5367 ],\n",
              "       [1409.456  , 2825.6704 ],\n",
              "       [ 712.0786 , 1595.7079 ],\n",
              "       [ 480.6966 , 1370.9619 ],\n",
              "       [ 746.3175 ,  967.5775 ],\n",
              "       [1145.5322 , 1956.55   ],\n",
              "       [ 733.9738 , 1622.928  ],\n",
              "       [1034.099  , 1795.6296 ],\n",
              "       [3098.138  , 7148.394  ],\n",
              "       [ 411.78244,  746.5088 ],\n",
              "       [ 662.65985, 1140.3625 ],\n",
              "       [ 466.9029 , 1375.1613 ],\n",
              "       [ 574.0915 , 1334.0231 ],\n",
              "       [ 408.83044,  862.5857 ],\n",
              "       [ 514.85535, 1118.0085 ],\n",
              "       [ 623.74475, 1529.534  ],\n",
              "       [1060.5715 , 2450.873  ],\n",
              "       [1766.7852 , 4020.631  ],\n",
              "       [ 546.2902 , 1342.1539 ],\n",
              "       [ 325.90643,  589.5024 ],\n",
              "       [ 418.11102, 1048.7853 ],\n",
              "       [2015.7737 , 3928.7888 ],\n",
              "       [ 901.1826 , 1797.1958 ],\n",
              "       [ 770.71533, 1320.2068 ],\n",
              "       [ 447.57117, 1286.6624 ],\n",
              "       [ 749.84625, 1884.9938 ],\n",
              "       [ 607.0879 ,  729.05444],\n",
              "       [ 721.5505 , 1532.8063 ],\n",
              "       [ 364.87668,  447.56863],\n",
              "       [ 536.0543 , 1333.5479 ],\n",
              "       [1298.6177 , 1932.537  ],\n",
              "       [ 414.51828, 1184.891  ],\n",
              "       [1129.8524 , 2726.8484 ],\n",
              "       [ 512.516  , 1382.4807 ],\n",
              "       [ 668.32556, 1677.2009 ],\n",
              "       [ 436.99222,  565.57574],\n",
              "       [ 564.6959 , 1236.7383 ],\n",
              "       [ 966.5538 , 2360.1223 ],\n",
              "       [ 600.3953 , 1202.907  ],\n",
              "       [1467.7876 , 3427.4011 ],\n",
              "       [ 847.718  , 2183.9348 ],\n",
              "       [1061.8666 , 2927.1892 ],\n",
              "       [ 217.10713,  308.1589 ],\n",
              "       [ 341.44623,  818.7027 ],\n",
              "       [ 309.47272, 1052.0315 ],\n",
              "       [ 442.67188,  567.67596],\n",
              "       [ 899.84106, 2163.4138 ],\n",
              "       [1510.905  , 3529.7405 ],\n",
              "       [ 567.35   , 1135.5917 ],\n",
              "       [ 908.35156, 2270.7    ],\n",
              "       [ 342.78726,  511.21542],\n",
              "       [ 370.00287, 1146.318  ],\n",
              "       [1537.8009 , 3414.8857 ],\n",
              "       [ 679.8077 , 1227.2576 ],\n",
              "       [ 829.91797, 1930.8903 ],\n",
              "       [ 720.3188 , 1716.0801 ],\n",
              "       [ 633.28986, 1741.582  ],\n",
              "       [ 467.64725, 1282.4349 ],\n",
              "       [ 436.58722,  470.4838 ],\n",
              "       [ 832.59045, 2363.007  ],\n",
              "       [ 277.58835,  666.3254 ],\n",
              "       [ 680.2583 , 1048.4689 ],\n",
              "       [ 516.68146,  978.64246],\n",
              "       [ 916.9135 , 1560.0359 ],\n",
              "       [ 438.3834 ,  843.4548 ],\n",
              "       [ 360.72678,  502.83844],\n",
              "       [1307.013  , 2920.935  ],\n",
              "       [ 770.68353, 1710.1086 ],\n",
              "       [1178.7544 , 3078.0857 ],\n",
              "       [ 867.49634, 2015.7415 ],\n",
              "       [1064.9824 , 2088.4956 ],\n",
              "       [1312.412  , 3065.6414 ],\n",
              "       [ 687.9654 , 1893.9673 ],\n",
              "       [ 854.17816, 1902.2269 ]], dtype=float32)"
            ]
          },
          "metadata": {},
          "execution_count": 18
        }
      ]
    },
    {
      "cell_type": "code",
      "source": [
        "max_indices = np.argmax(prediction, axis=        )\n",
        "\n",
        "# Print the result\n",
        "print(max_indices)"
      ],
      "metadata": {
        "id": "U-3Q_RYJmZhp",
        "colab": {
          "base_uri": "https://localhost:8080/"
        },
        "outputId": "575d9f12-caa8-4073-bef7-8be2662ad872"
      },
      "execution_count": null,
      "outputs": [
        {
          "output_type": "stream",
          "name": "stdout",
          "text": [
            "[1 1 1 1 1 1 1 1 1 1 1 1 1 1 1 1 1 1 0 1 1 1 1 1 1 1 1 1 1 1 1 0 1 1 1 1 1\n",
            " 1 1 1 1 1 1 1 1 1 0 1 1 1 1 1 1 1 1 1 1 1 1 1 1 1 1 1 0 1 1 1 1 1 1 1 1 1\n",
            " 1 1 1 1 0 1 1 1 0 1 1 1 1 1 1 1 0 1 1 1 1 1 1 1 1 1 1 1 1 1 1 1 1 1 1 1 1\n",
            " 1 1 1 1 1 1 1 1 1 1 1 1 1 1 1 1 1 1 1 1 1 1 1 1 1 1 0 1 1 1 1 1 0 1 1 1 1\n",
            " 1 1 1 1 1 1 1 1 1 1 1 1 1 1 1 1 1 1 1 1 1 1 1 1 1 1 1 1 1 1 1 1 0 1 0 1 1\n",
            " 1 1 1 1 1 1 1 1 1 1 1 1 1 1 1 1 1 1 1 1 1 1 1 1 1 1 1 1 1 1 1 1 1 1 1 1 1\n",
            " 1 1 1 1 1 1 1 1 1 1 1 1 1 1 1 1 1 1 1 1 1 1 1 1 1 1 1 1 1 1 1 1 1 1 1 1 1\n",
            " 1 1 1 1 1 1 1 1 1 1 1 1 1 1 1 1 1 1 1 1 1 1 1 1 1 1 1 1 1 1 1 1 1 1 1 1 1]\n"
          ]
        }
      ]
    },
    {
      "cell_type": "code",
      "source": [
        "score=0\n",
        "for i in max_indices:\n",
        "  if i==1:\n",
        "   score+=-1\n",
        "  else:\n",
        "    score+=1\n",
        "print(score)"
      ],
      "metadata": {
        "id": "3mWceFGkmZkd",
        "colab": {
          "base_uri": "https://localhost:8080/"
        },
        "outputId": "02056439-e563-4f97-8515-528c3c92c275"
      },
      "execution_count": null,
      "outputs": [
        {
          "output_type": "stream",
          "name": "stdout",
          "text": [
            "-274\n"
          ]
        }
      ]
    },
    {
      "cell_type": "code",
      "source": [],
      "metadata": {
        "id": "cnRf5pFHmZmm"
      },
      "execution_count": null,
      "outputs": []
    },
    {
      "cell_type": "code",
      "source": [
        "import numpy\n",
        "\n",
        "plt.figure(figsize=(10,10))\n",
        "for images, labels in test_ds.take(1):\n",
        "  classifications = model(images)\n",
        "  # print(classifications)\n",
        "  \n",
        "  for i in range(9):\n",
        "    ax = plt.subplot(3, 3, i + 1)\n",
        "    plt.imshow(images[i].numpy().astype(\"uint8\"))\n",
        "    index = numpy.argmax(classifications[i])\n",
        "    plt.title(\"Pred: \" + class_names[index] + \" | Real: \" + class_names[labels[i]])"
      ],
      "metadata": {
        "id": "AZXzzvArbrR7"
      },
      "execution_count": null,
      "outputs": []
    },
    {
      "cell_type": "code",
      "source": [
        "converter = tf.lite.TFLiteConverter.from_keras_model(model)\n",
        "tflite_model = converter.convert()\n",
        "\n",
        "with open(\"model.tflite\", 'wb') as f:\n",
        "  f.write(tflite_model)"
      ],
      "metadata": {
        "id": "P8ySxVJubs7Q"
      },
      "execution_count": null,
      "outputs": []
    },
    {
      "cell_type": "code",
      "source": [
        "import tensorflow as tf\n",
        "from tensorflow.keras.applications.densenet import DenseNet121\n",
        "from tensorflow.keras.layers import Dense, Flatten\n",
        "from tensorflow.keras.models import Model\n",
        "\n",
        "# Load the pre-trained model\n",
        "base_model = DenseNet121(weights='imagenet', include_top=False, input_shape=(224, 224, 3))\n",
        "\n",
        "# Freeze the pre-trained layers\n",
        "for layer in base_model.layers:\n",
        "    layer.trainable = False\n",
        "\n",
        "# Add a new output layer for binary classification\n",
        "x = base_model.output\n",
        "x = Flatten()(x)\n",
        "x = Dense(128, activation='relu')(x)\n",
        "predictions = Dense(2, activation='softmax')(x)\n",
        "\n",
        "# Create the new model\n",
        "model_de = Model(inputs=base_model.input, outputs=predictions)\n",
        "\n",
        "# Compile the model\n",
        "model_de.compile(optimizer='adam', loss='binary_crossentropy', metrics=['accuracy'])\n",
        "\n",
        "# Train the model on your data\n",
        "model_de.fit(\n",
        "    train_batches,\n",
        "    validation_data = val_batches,\n",
        "    epochs = 30\n",
        ")\n"
      ],
      "metadata": {
        "id": "THo26r_C030Q",
        "colab": {
          "base_uri": "https://localhost:8080/"
        },
        "outputId": "be77ec63-cf2b-43bd-9bc2-ca423c3dfc9d"
      },
      "execution_count": null,
      "outputs": [
        {
          "output_type": "stream",
          "name": "stdout",
          "text": [
            "Epoch 1/30\n",
            "70/70 [==============================] - 36s 417ms/step - loss: 13.9588 - accuracy: 0.5281 - val_loss: 6.3888 - val_accuracy: 0.5325\n",
            "Epoch 2/30\n",
            "70/70 [==============================] - 15s 217ms/step - loss: 5.1635 - accuracy: 0.5525 - val_loss: 4.0661 - val_accuracy: 0.5325\n",
            "Epoch 3/30\n",
            "70/70 [==============================] - 15s 213ms/step - loss: 4.7013 - accuracy: 0.5381 - val_loss: 2.0568 - val_accuracy: 0.5844\n",
            "Epoch 4/30\n",
            "70/70 [==============================] - 15s 215ms/step - loss: 2.1273 - accuracy: 0.5640 - val_loss: 1.5707 - val_accuracy: 0.5801\n",
            "Epoch 5/30\n",
            "70/70 [==============================] - 15s 212ms/step - loss: 1.7720 - accuracy: 0.5353 - val_loss: 1.3743 - val_accuracy: 0.5628\n",
            "Epoch 6/30\n",
            "70/70 [==============================] - 17s 239ms/step - loss: 1.5561 - accuracy: 0.5813 - val_loss: 2.6961 - val_accuracy: 0.5238\n",
            "Epoch 7/30\n",
            "70/70 [==============================] - 15s 216ms/step - loss: 1.4955 - accuracy: 0.5727 - val_loss: 1.1857 - val_accuracy: 0.5411\n",
            "Epoch 8/30\n",
            "70/70 [==============================] - 15s 215ms/step - loss: 1.0828 - accuracy: 0.6216 - val_loss: 1.0883 - val_accuracy: 0.5801\n",
            "Epoch 9/30\n",
            "70/70 [==============================] - 15s 214ms/step - loss: 0.8944 - accuracy: 0.6043 - val_loss: 0.9875 - val_accuracy: 0.5368\n",
            "Epoch 10/30\n",
            "70/70 [==============================] - 15s 213ms/step - loss: 0.8285 - accuracy: 0.5914 - val_loss: 0.8112 - val_accuracy: 0.5628\n",
            "Epoch 11/30\n",
            "70/70 [==============================] - 22s 312ms/step - loss: 0.6937 - accuracy: 0.6446 - val_loss: 0.7720 - val_accuracy: 0.5974\n",
            "Epoch 12/30\n",
            "70/70 [==============================] - 17s 251ms/step - loss: 0.7074 - accuracy: 0.6201 - val_loss: 0.7606 - val_accuracy: 0.5628\n",
            "Epoch 13/30\n",
            "70/70 [==============================] - 22s 317ms/step - loss: 0.7221 - accuracy: 0.5957 - val_loss: 0.7644 - val_accuracy: 0.5671\n",
            "Epoch 14/30\n",
            "70/70 [==============================] - 17s 250ms/step - loss: 0.6704 - accuracy: 0.6201 - val_loss: 0.7068 - val_accuracy: 0.6017\n",
            "Epoch 15/30\n",
            "70/70 [==============================] - 15s 215ms/step - loss: 0.6630 - accuracy: 0.6259 - val_loss: 0.6647 - val_accuracy: 0.5887\n",
            "Epoch 16/30\n",
            "70/70 [==============================] - 15s 215ms/step - loss: 0.6583 - accuracy: 0.6288 - val_loss: 0.7046 - val_accuracy: 0.5584\n",
            "Epoch 17/30\n",
            "70/70 [==============================] - 16s 223ms/step - loss: 0.6559 - accuracy: 0.6144 - val_loss: 0.7124 - val_accuracy: 0.5671\n",
            "Epoch 18/30\n",
            "70/70 [==============================] - 15s 215ms/step - loss: 0.6465 - accuracy: 0.6259 - val_loss: 0.7447 - val_accuracy: 0.5628\n",
            "Epoch 19/30\n",
            "70/70 [==============================] - 15s 213ms/step - loss: 0.6558 - accuracy: 0.6331 - val_loss: 0.6583 - val_accuracy: 0.6147\n",
            "Epoch 20/30\n",
            "70/70 [==============================] - 15s 214ms/step - loss: 0.6416 - accuracy: 0.6345 - val_loss: 0.6789 - val_accuracy: 0.6061\n",
            "Epoch 21/30\n",
            "70/70 [==============================] - 15s 213ms/step - loss: 0.6358 - accuracy: 0.6518 - val_loss: 0.7169 - val_accuracy: 0.5411\n",
            "Epoch 22/30\n",
            "70/70 [==============================] - 15s 216ms/step - loss: 0.6648 - accuracy: 0.6331 - val_loss: 0.6885 - val_accuracy: 0.5801\n",
            "Epoch 23/30\n",
            "70/70 [==============================] - 15s 212ms/step - loss: 0.6512 - accuracy: 0.6273 - val_loss: 0.6589 - val_accuracy: 0.6104\n",
            "Epoch 24/30\n",
            "70/70 [==============================] - 15s 220ms/step - loss: 0.6479 - accuracy: 0.6158 - val_loss: 0.6520 - val_accuracy: 0.6710\n",
            "Epoch 25/30\n",
            "70/70 [==============================] - 15s 221ms/step - loss: 0.6504 - accuracy: 0.6417 - val_loss: 0.6648 - val_accuracy: 0.5844\n",
            "Epoch 26/30\n",
            "70/70 [==============================] - 15s 214ms/step - loss: 0.6220 - accuracy: 0.6475 - val_loss: 0.6749 - val_accuracy: 0.5931\n",
            "Epoch 27/30\n",
            "70/70 [==============================] - 16s 233ms/step - loss: 0.6193 - accuracy: 0.6504 - val_loss: 0.6701 - val_accuracy: 0.6190\n",
            "Epoch 28/30\n",
            "70/70 [==============================] - 15s 221ms/step - loss: 0.6592 - accuracy: 0.6129 - val_loss: 0.6627 - val_accuracy: 0.6017\n",
            "Epoch 29/30\n",
            "70/70 [==============================] - 16s 226ms/step - loss: 0.6318 - accuracy: 0.6302 - val_loss: 0.7083 - val_accuracy: 0.5714\n",
            "Epoch 30/30\n",
            "70/70 [==============================] - 18s 255ms/step - loss: 0.6317 - accuracy: 0.6302 - val_loss: 0.6758 - val_accuracy: 0.5974\n"
          ]
        },
        {
          "output_type": "execute_result",
          "data": {
            "text/plain": [
              "<keras.callbacks.History at 0x7fea74100a90>"
            ]
          },
          "metadata": {},
          "execution_count": 17
        }
      ]
    },
    {
      "cell_type": "code",
      "source": [
        "import tensorflow as tf\n",
        "from tensorflow.keras.applications.resnet50 import ResNet50\n",
        "from tensorflow.keras.layers import Dense, Flatten\n",
        "from tensorflow.keras.models import Model\n",
        "\n",
        "# Load the pre-trained model\n",
        "base_model = ResNet50(weights='imagenet', include_top=False, input_shape=(224, 224, 3))\n",
        "\n",
        "# Freeze the pre-trained layers\n",
        "for layer in base_model.layers:\n",
        "    layer.trainable = False\n",
        "\n",
        "# Add a new output layer for classification\n",
        "x = base_model.output\n",
        "x = Flatten()(x)\n",
        "x = Dense(        28, activation='relu')(x)\n",
        "predictions = Dense(2, activation='softmax')(x)\n",
        "\n",
        "# Create the new model\n",
        "model_re = Model(inputs=base_model.input, outputs=predictions)\n",
        "\n",
        "# Compile the model\n",
        "model_re.compile(optimizer='adam', loss='categorical_crossentropy', metrics=['accuracy'])\n",
        "\n",
        "# Train the model on your data\n",
        "model_re.fit(\n",
        "    train_batches,\n",
        "    validation_data = val_batches,\n",
        "    epochs = 50\n",
        ")\n"
      ],
      "metadata": {
        "colab": {
          "base_uri": "https://localhost:8080/",
          "height": 1000
        },
        "id": "cLUmdm_q9EZL",
        "outputId": "815b861a-d0a4-40ae-8b8b-ae29dc7b91c5"
      },
      "execution_count": null,
      "outputs": [
        {
          "output_type": "stream",
          "name": "stdout",
          "text": [
            "Downloading data from https://storage.googleapis.com/tensorflow/keras-applications/resnet/resnet50_weights_tf_dim_ordering_tf_kernels_notop.h5\n",
            "94765736/94765736 [==============================] - 0s 0us/step\n",
            "Epoch 1/90\n",
            "170/170 [==============================] - 68s 329ms/step - loss: 3.1740 - accuracy: 0.5492 - val_loss: 0.6720 - val_accuracy: 0.6407\n",
            "Epoch 2/90\n",
            "170/170 [==============================] - 47s 278ms/step - loss: 0.5869 - accuracy: 0.6853 - val_loss: 0.5784 - val_accuracy: 0.7115\n",
            "Epoch 3/90\n",
            "170/170 [==============================] - 46s 270ms/step - loss: 0.5470 - accuracy: 0.7195 - val_loss: 0.4595 - val_accuracy: 0.7841\n",
            "Epoch 4/90\n",
            "170/170 [==============================] - 55s 327ms/step - loss: 0.4748 - accuracy: 0.7637 - val_loss: 0.4768 - val_accuracy: 0.7752\n",
            "Epoch 5/90\n",
            "170/170 [==============================] - 57s 334ms/step - loss: 0.4197 - accuracy: 0.7938 - val_loss: 0.4212 - val_accuracy: 0.7823\n",
            "Epoch 6/90\n",
            "170/170 [==============================] - 47s 276ms/step - loss: 0.4013 - accuracy: 0.8108 - val_loss: 0.4213 - val_accuracy: 0.7947\n",
            "Epoch 7/90\n",
            "170/170 [==============================] - 45s 266ms/step - loss: 0.3849 - accuracy: 0.8073 - val_loss: 0.4414 - val_accuracy: 0.8035\n",
            "Epoch 8/90\n",
            "170/170 [==============================] - 45s 265ms/step - loss: 0.3625 - accuracy: 0.8262 - val_loss: 0.4461 - val_accuracy: 0.7912\n",
            "Epoch 9/90\n",
            "170/170 [==============================] - 47s 275ms/step - loss: 0.3552 - accuracy: 0.8362 - val_loss: 0.4466 - val_accuracy: 0.8195\n",
            "Epoch 10/90\n",
            "170/170 [==============================] - 45s 265ms/step - loss: 0.3370 - accuracy: 0.8486 - val_loss: 0.3560 - val_accuracy: 0.8177\n",
            "Epoch 11/90\n",
            "170/170 [==============================] - 56s 328ms/step - loss: 0.3393 - accuracy: 0.8374 - val_loss: 0.3726 - val_accuracy: 0.8248\n",
            "Epoch 12/90\n",
            "170/170 [==============================] - 56s 327ms/step - loss: 0.3265 - accuracy: 0.8427 - val_loss: 0.4414 - val_accuracy: 0.7929\n",
            "Epoch 13/90\n",
            "170/170 [==============================] - 47s 274ms/step - loss: 0.3255 - accuracy: 0.8427 - val_loss: 0.3913 - val_accuracy: 0.7805\n",
            "Epoch 14/90\n",
            "170/170 [==============================] - 45s 267ms/step - loss: 0.3082 - accuracy: 0.8568 - val_loss: 0.3859 - val_accuracy: 0.8071\n",
            "Epoch 15/90\n",
            "170/170 [==============================] - 45s 265ms/step - loss: 0.3173 - accuracy: 0.8421 - val_loss: 0.4643 - val_accuracy: 0.7575\n",
            "Epoch 16/90\n",
            "170/170 [==============================] - 55s 326ms/step - loss: 0.2806 - accuracy: 0.8621 - val_loss: 0.3316 - val_accuracy: 0.8283\n",
            "Epoch 17/90\n",
            "170/170 [==============================] - 47s 278ms/step - loss: 0.3106 - accuracy: 0.8497 - val_loss: 0.3495 - val_accuracy: 0.8177\n",
            "Epoch 18/90\n",
            "170/170 [==============================] - 46s 271ms/step - loss: 0.2634 - accuracy: 0.8810 - val_loss: 0.3257 - val_accuracy: 0.8513\n",
            "Epoch 19/90\n",
            "170/170 [==============================] - 45s 265ms/step - loss: 0.2854 - accuracy: 0.8574 - val_loss: 0.3131 - val_accuracy: 0.8336\n",
            "Epoch 20/90\n",
            "170/170 [==============================] - 45s 267ms/step - loss: 0.2937 - accuracy: 0.8727 - val_loss: 0.3315 - val_accuracy: 0.8283\n",
            "Epoch 21/90\n",
            "170/170 [==============================] - 46s 270ms/step - loss: 0.2571 - accuracy: 0.8816 - val_loss: 0.3320 - val_accuracy: 0.8301\n",
            "Epoch 22/90\n",
            "170/170 [==============================] - 45s 263ms/step - loss: 0.2656 - accuracy: 0.8880 - val_loss: 0.3040 - val_accuracy: 0.8602\n",
            "Epoch 23/90\n",
            "170/170 [==============================] - 45s 265ms/step - loss: 0.2815 - accuracy: 0.8645 - val_loss: 0.3155 - val_accuracy: 0.8602\n",
            "Epoch 24/90\n",
            "170/170 [==============================] - 46s 272ms/step - loss: 0.2750 - accuracy: 0.8704 - val_loss: 0.4155 - val_accuracy: 0.8018\n",
            "Epoch 25/90\n",
            "170/170 [==============================] - 45s 264ms/step - loss: 0.2723 - accuracy: 0.8763 - val_loss: 0.3098 - val_accuracy: 0.8425\n",
            "Epoch 26/90\n",
            "170/170 [==============================] - 45s 264ms/step - loss: 0.2650 - accuracy: 0.8786 - val_loss: 0.3859 - val_accuracy: 0.8372\n",
            "Epoch 27/90\n",
            "170/170 [==============================] - 46s 273ms/step - loss: 0.2686 - accuracy: 0.8733 - val_loss: 0.2900 - val_accuracy: 0.8814\n",
            "Epoch 28/90\n",
            "170/170 [==============================] - 45s 263ms/step - loss: 0.2500 - accuracy: 0.8745 - val_loss: 0.2571 - val_accuracy: 0.8814\n",
            "Epoch 29/90\n",
            "170/170 [==============================] - 45s 263ms/step - loss: 0.2365 - accuracy: 0.8851 - val_loss: 0.2740 - val_accuracy: 0.8796\n",
            "Epoch 30/90\n",
            "170/170 [==============================] - 46s 272ms/step - loss: 0.2448 - accuracy: 0.8851 - val_loss: 0.2960 - val_accuracy: 0.8354\n",
            "Epoch 31/90\n",
            "170/170 [==============================] - 45s 265ms/step - loss: 0.2415 - accuracy: 0.8945 - val_loss: 0.2753 - val_accuracy: 0.8655\n",
            "Epoch 32/90\n",
            "170/170 [==============================] - 45s 263ms/step - loss: 0.2521 - accuracy: 0.8845 - val_loss: 0.3471 - val_accuracy: 0.8619\n",
            "Epoch 33/90\n",
            "170/170 [==============================] - 55s 325ms/step - loss: 0.2353 - accuracy: 0.8904 - val_loss: 0.2858 - val_accuracy: 0.8478\n",
            "Epoch 34/90\n",
            "170/170 [==============================] - 47s 275ms/step - loss: 0.2496 - accuracy: 0.8733 - val_loss: 0.2651 - val_accuracy: 0.8655\n",
            "Epoch 35/90\n",
            "170/170 [==============================] - 45s 265ms/step - loss: 0.2376 - accuracy: 0.8957 - val_loss: 0.3255 - val_accuracy: 0.8602\n",
            "Epoch 36/90\n",
            "170/170 [==============================] - 45s 265ms/step - loss: 0.2427 - accuracy: 0.8951 - val_loss: 0.3373 - val_accuracy: 0.8478\n",
            "Epoch 37/90\n",
            "170/170 [==============================] - 55s 325ms/step - loss: 0.2527 - accuracy: 0.8798 - val_loss: 0.3322 - val_accuracy: 0.8354\n",
            "Epoch 38/90\n",
            "170/170 [==============================] - 46s 270ms/step - loss: 0.2280 - accuracy: 0.8939 - val_loss: 0.2770 - val_accuracy: 0.8708\n"
          ]
        },
        {
          "output_type": "error",
          "ename": "KeyboardInterrupt",
          "evalue": "ignored",
          "traceback": [
            "\u001b[0;31m---------------------------------------------------------------------------\u001b[0m",
            "\u001b[0;31mKeyboardInterrupt\u001b[0m                         Traceback (most recent call last)",
            "\u001b[0;32m<ipython-input-12-20d254179450>\u001b[0m in \u001b[0;36m<cell line: 26>\u001b[0;34m()\u001b[0m\n\u001b[1;32m     24\u001b[0m \u001b[0;34m\u001b[0m\u001b[0m\n\u001b[1;32m     25\u001b[0m \u001b[0;31m# Train the model on your data\u001b[0m\u001b[0;34m\u001b[0m\u001b[0;34m\u001b[0m\u001b[0m\n\u001b[0;32m---> 26\u001b[0;31m model_re.fit(\n\u001b[0m\u001b[1;32m     27\u001b[0m     \u001b[0mtrain_batches\u001b[0m\u001b[0;34m,\u001b[0m\u001b[0;34m\u001b[0m\u001b[0;34m\u001b[0m\u001b[0m\n\u001b[1;32m     28\u001b[0m     \u001b[0mvalidation_data\u001b[0m \u001b[0;34m=\u001b[0m \u001b[0mval_batches\u001b[0m\u001b[0;34m,\u001b[0m\u001b[0;34m\u001b[0m\u001b[0;34m\u001b[0m\u001b[0m\n",
            "\u001b[0;32m/usr/local/lib/python3.9/dist-packages/keras/utils/traceback_utils.py\u001b[0m in \u001b[0;36merror_handler\u001b[0;34m(*args, **kwargs)\u001b[0m\n\u001b[1;32m     63\u001b[0m         \u001b[0mfiltered_tb\u001b[0m \u001b[0;34m=\u001b[0m \u001b[0;32mNone\u001b[0m\u001b[0;34m\u001b[0m\u001b[0;34m\u001b[0m\u001b[0m\n\u001b[1;32m     64\u001b[0m         \u001b[0;32mtry\u001b[0m\u001b[0;34m:\u001b[0m\u001b[0;34m\u001b[0m\u001b[0;34m\u001b[0m\u001b[0m\n\u001b[0;32m---> 65\u001b[0;31m             \u001b[0;32mreturn\u001b[0m \u001b[0mfn\u001b[0m\u001b[0;34m(\u001b[0m\u001b[0;34m*\u001b[0m\u001b[0margs\u001b[0m\u001b[0;34m,\u001b[0m \u001b[0;34m**\u001b[0m\u001b[0mkwargs\u001b[0m\u001b[0;34m)\u001b[0m\u001b[0;34m\u001b[0m\u001b[0;34m\u001b[0m\u001b[0m\n\u001b[0m\u001b[1;32m     66\u001b[0m         \u001b[0;32mexcept\u001b[0m \u001b[0mException\u001b[0m \u001b[0;32mas\u001b[0m \u001b[0me\u001b[0m\u001b[0;34m:\u001b[0m\u001b[0;34m\u001b[0m\u001b[0;34m\u001b[0m\u001b[0m\n\u001b[1;32m     67\u001b[0m             \u001b[0mfiltered_tb\u001b[0m \u001b[0;34m=\u001b[0m \u001b[0m_process_traceback_frames\u001b[0m\u001b[0;34m(\u001b[0m\u001b[0me\u001b[0m\u001b[0;34m.\u001b[0m\u001b[0m__traceback__\u001b[0m\u001b[0;34m)\u001b[0m\u001b[0;34m\u001b[0m\u001b[0;34m\u001b[0m\u001b[0m\n",
            "\u001b[0;32m/usr/local/lib/python3.9/dist-packages/keras/engine/training.py\u001b[0m in \u001b[0;36mfit\u001b[0;34m(self, x, y, batch_size, epochs, verbose, callbacks, validation_split, validation_data, shuffle, class_weight, sample_weight, initial_epoch, steps_per_epoch, validation_steps, validation_batch_size, validation_freq, max_queue_size, workers, use_multiprocessing)\u001b[0m\n\u001b[1;32m   1671\u001b[0m             \u001b[0mlogs\u001b[0m \u001b[0;34m=\u001b[0m \u001b[0;32mNone\u001b[0m\u001b[0;34m\u001b[0m\u001b[0;34m\u001b[0m\u001b[0m\n\u001b[1;32m   1672\u001b[0m             \u001b[0;32mfor\u001b[0m \u001b[0mepoch\u001b[0m\u001b[0;34m,\u001b[0m \u001b[0miterator\u001b[0m \u001b[0;32min\u001b[0m \u001b[0mdata_handler\u001b[0m\u001b[0;34m.\u001b[0m\u001b[0menumerate_epochs\u001b[0m\u001b[0;34m(\u001b[0m\u001b[0;34m)\u001b[0m\u001b[0;34m:\u001b[0m\u001b[0;34m\u001b[0m\u001b[0;34m\u001b[0m\u001b[0m\n\u001b[0;32m-> 1673\u001b[0;31m                 \u001b[0mself\u001b[0m\u001b[0;34m.\u001b[0m\u001b[0mreset_metrics\u001b[0m\u001b[0;34m(\u001b[0m\u001b[0;34m)\u001b[0m\u001b[0;34m\u001b[0m\u001b[0;34m\u001b[0m\u001b[0m\n\u001b[0m\u001b[1;32m   1674\u001b[0m                 \u001b[0mcallbacks\u001b[0m\u001b[0;34m.\u001b[0m\u001b[0mon_epoch_begin\u001b[0m\u001b[0;34m(\u001b[0m\u001b[0mepoch\u001b[0m\u001b[0;34m)\u001b[0m\u001b[0;34m\u001b[0m\u001b[0;34m\u001b[0m\u001b[0m\n\u001b[1;32m   1675\u001b[0m                 \u001b[0;32mwith\u001b[0m \u001b[0mdata_handler\u001b[0m\u001b[0;34m.\u001b[0m\u001b[0mcatch_stop_iteration\u001b[0m\u001b[0;34m(\u001b[0m\u001b[0;34m)\u001b[0m\u001b[0;34m:\u001b[0m\u001b[0;34m\u001b[0m\u001b[0;34m\u001b[0m\u001b[0m\n",
            "\u001b[0;31mKeyboardInterrupt\u001b[0m: "
          ]
        }
      ]
    },
    {
      "cell_type": "code",
      "source": [
        "model_re.evaluate(test_batches)"
      ],
      "metadata": {
        "colab": {
          "base_uri": "https://localhost:8080/"
        },
        "id": "4-Mv_E7ZJLGs",
        "outputId": "2b23c3c5-5d6f-4d69-f41e-ae8fef59aca5"
      },
      "execution_count": null,
      "outputs": [
        {
          "output_type": "stream",
          "name": "stdout",
          "text": [
            "57/57 [==============================] - 11s 198ms/step - loss: 0.2714 - accuracy: 0.8732\n"
          ]
        },
        {
          "output_type": "execute_result",
          "data": {
            "text/plain": [
              "[0.27136126160621643, 0.8732394576072693]"
            ]
          },
          "metadata": {},
          "execution_count": 13
        }
      ]
    },
    {
      "cell_type": "code",
      "source": [],
      "metadata": {
        "id": "F7tiIGUtJRqe"
      },
      "execution_count": null,
      "outputs": []
    },
    {
      "cell_type": "code",
      "source": [
        "prediction=model_re.predict(x=test_batches)"
      ],
      "metadata": {
        "colab": {
          "base_uri": "https://localhost:8080/"
        },
        "outputId": "0a9d05c4-07a0-4a5b-c15e-95365ee54d11",
        "id": "6ufcwgK1MHHM"
      },
      "execution_count": null,
      "outputs": [
        {
          "output_type": "stream",
          "name": "stdout",
          "text": [
            "57/57 [==============================] - 18s 290ms/step\n"
          ]
        }
      ]
    },
    {
      "cell_type": "code",
      "source": [
        "prediction"
      ],
      "metadata": {
        "colab": {
          "base_uri": "https://localhost:8080/"
        },
        "outputId": "f3922eae-3715-45f6-fdad-a41af2e8362a",
        "id": "KwuDXxzpMHHQ"
      },
      "execution_count": null,
      "outputs": [
        {
          "output_type": "execute_result",
          "data": {
            "text/plain": [
              "array([[4.8545792e-04, 9.9951458e-01],\n",
              "       [1.2609953e-01, 8.7390047e-01],\n",
              "       [6.4248561e-05, 9.9993575e-01],\n",
              "       ...,\n",
              "       [9.6552825e-01, 3.4471765e-02],\n",
              "       [9.9327797e-01, 6.7220018e-03],\n",
              "       [5.1288617e-01, 4.8711380e-01]], dtype=float32)"
            ]
          },
          "metadata": {},
          "execution_count": 15
        }
      ]
    },
    {
      "cell_type": "code",
      "source": [
        "max_indices = np.argmax(prediction, axis=1)\n",
        "\n",
        "# Print the result\n",
        "print(max_indices)"
      ],
      "metadata": {
        "colab": {
          "base_uri": "https://localhost:8080/"
        },
        "outputId": "35d1248a-ca8b-4248-c7d6-1f5799873ae2",
        "id": "fS-84cXYMHHS"
      },
      "execution_count": null,
      "outputs": [
        {
          "output_type": "stream",
          "name": "stdout",
          "text": [
            "[1 1 1 1 1 1 1 1 0 1 1 1 0 1 1 0 0 1 0 1 1 1 0 0 1 0 1 1 1 1 1 1 0 0 1 0 1\n",
            " 1 0 0 0 0 0 1 0 0 0 0 1 1 1 1 1 1 0 0 1 0 1 0 1 1 1 1 1 1 0 1 0 1 1 0 1 0\n",
            " 1 0 1 1 1 1 0 0 1 1 0 0 0 0 0 1 0 0 1 1 0 1 0 0 0 0 0 0 1 0 0 1 0 1 1 0 0\n",
            " 1 0 0 1 1 1 0 0 0 0 1 0 0 1 1 0 0 1 0 1 0 0 0 0 0 1 0 0 0 0 0 0 1 0 1 0 0\n",
            " 1 1 1 0 1 0 0 1 0 1 1 0 0 1 0 0 0 1 0 0 0 0 0 1 1 1 0 0 1 0 0 0 0 1 1 0 0\n",
            " 1 0 0 0 1 0 0 1 1 0 1 0 0 1 1 0 0 1 1 1 0 1 1 1 0 1 0 1 0 1 1 0 1 1 1 1 0\n",
            " 0 0 1 0 1 1 1 0 1 0 1 0 0 0 0 0 0 1 0 0 0 0 0 0 0 1 0 0 0 0 0 1 0 1 1 0 0\n",
            " 0 0 0 1 0 0 0 1 0 1 0 1 0 0 1 0 1 0 1 1 0 1 1 1 1 0 1 0 0 0 1 1 1 0 1 1 0\n",
            " 0 1 0 1 1 1 1 0 0 0 1 0 0 0 0 0 0 0 0 1 1 1 0 0 1 1 0 0 0 1 1 0 1 0 0 0 0\n",
            " 1 0 0 1 1 1 0 0 0 1 0 1 0 1 0 1 0 0 1 1 0 0 1 1 0 0 1 0 1 0 0 0 0 0 1 0 0\n",
            " 0 0 0 0 0 0 1 1 1 1 0 1 0 0 1 1 0 1 1 0 1 1 0 0 0 1 0 1 1 1 1 0 0 0 1 0 0\n",
            " 0 1 0 0 0 1 1 0 0 0 1 1 0 0 1 0 1 1 0 1 1 1 1 0 1 0 1 1 0 0 1 1 1 1 0 0 1\n",
            " 1 0 0 0 0 0 0 0 1 1 1 1 0 1 0 0 0 1 1 1 0 0 1 0 1 0 1 1 0 1 1 1 0 0 0 1 1\n",
            " 1 1 1 0 1 0 1 0 0 1 0 1 0 1 1 0 1 1 1 0 0 1 1 0 0 0 1 0 0 1 1 0 0 1 0 0 0\n",
            " 1 0 1 0 1 0 1 0 0 1 0 0 0 1 1 1 1 0 0 1 1 0 1 1 0 1 1 0 0 0 1 1 1 1 0 1 0\n",
            " 0 0 0 0 0 1 1 1 0 1 0 0 0]\n"
          ]
        }
      ]
    },
    {
      "cell_type": "code",
      "source": [
        "score=0\n",
        "for i in max_indices:\n",
        "  if i==1:\n",
        "   score+=-1\n",
        "  else:\n",
        "    score+=1\n",
        "print(score)"
      ],
      "metadata": {
        "colab": {
          "base_uri": "https://localhost:8080/"
        },
        "outputId": "0a7fb115-e048-49e7-8464-3dd47689c697",
        "id": "Y8tI_f-TMHHV"
      },
      "execution_count": null,
      "outputs": [
        {
          "output_type": "stream",
          "name": "stdout",
          "text": [
            "40\n"
          ]
        }
      ]
    },
    {
      "cell_type": "code",
      "source": [
        "for i in max_indices:\n",
        "  if i==1:\n",
        "    c1++\n",
        "  else:\n",
        "    c0++\n",
        "print(c1)\n",
        "print(c0)"
      ],
      "metadata": {
        "id": "09IJdukNMLU-",
        "colab": {
          "base_uri": "https://localhost:8080/",
          "height": 131
        },
        "outputId": "ee7dddea-969f-4515-af23-186aace12fc7"
      },
      "execution_count": null,
      "outputs": [
        {
          "output_type": "error",
          "ename": "SyntaxError",
          "evalue": "ignored",
          "traceback": [
            "\u001b[0;36m  File \u001b[0;32m\"<ipython-input-1-9c752125546d>\"\u001b[0;36m, line \u001b[0;32m3\u001b[0m\n\u001b[0;31m    c1++\u001b[0m\n\u001b[0m        ^\u001b[0m\n\u001b[0;31mSyntaxError\u001b[0m\u001b[0;31m:\u001b[0m invalid syntax\n"
          ]
        }
      ]
    },
    {
      "cell_type": "code",
      "source": [
        "         0 0 0          0                                              0                            0 0                   0          0                            0 0          0          0                                                                                                                      0                            0 0 0                   0                   0                                              0          0          0 0          0          0                                                                                  0 0 0                                                       0 0                   0          0                                     0 0                   0 0 0                   0          0 0          0 0 0 0                                              0 0          0 0                                                       0                                              0          0          0 0 0 0                   0                   0 0 0                                                       0 0          0          0                                     0                   0          0 0          0 0          0 0          0 0          0 0                   0                   0          0          0                            0                            0 0          0                                                                0 0 0          0 0 0 0 0 0 0 0 0                   0          0                                     0                   0          0 0                            0 0 0          0                                     0          0                            0 0                   0 0 0          0                                     0          0 0          0 0 0          0                                              0 0                   0 0          0          0          0 0 0 0          0 0          0 0 0 0 0 0 0 0 0                   0                                                       0                   0                   0 0 0 0 0                   0 0 0 0 0 0                   0                   0                   0          0                            0                   0                   0          0          0 0 0                                                       0 0          0 0                            0 0 0                                              0                                                                                  0 0 0 0 0 0 0 0 0 0 0          0          0                   0 0                                              0                   0          0                   0          0 0 0 0 0 0          0 0                                                       0 0          0 0                            0 0                                              0 0                   0 0 0          0 0 0          0 0          0 0          0 0                   0 0 0 0                   0                            0                   0          0 0          0 0 0 0          0          0                                     0 0 0                   0          0 0 0          0          0                   0 0 0 0                   0 0 0          0          0          0          0 0 0                      0                   0          0 0 0          0 0 0 0 0 0                                     0                   0                                              0 0                   0          0          0 0          0          0"
      ],
      "metadata": {
        "id": "lbYYTXcGkTQ2"
      },
      "execution_count": null,
      "outputs": []
    }
  ]
}