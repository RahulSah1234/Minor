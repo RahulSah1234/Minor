{
  "nbformat": 4,
  "nbformat_minor": 0,
  "metadata": {
    "colab": {
      "provenance": [],
      "include_colab_link": true
    },
    "kernelspec": {
      "name": "python3",
      "display_name": "Python 3"
    },
    "language_info": {
      "name": "python"
    },
    "accelerator": "GPU",
    "gpuClass": "standard"
  },
  "cells": [
    {
      "cell_type": "markdown",
      "metadata": {
        "id": "view-in-github",
        "colab_type": "text"
      },
      "source": [
        "<a href=\"https://colab.research.google.com/github/RahulSah1234/Minor/blob/main/minor_project.ipynb\" target=\"_parent\"><img src=\"https://colab.research.google.com/assets/colab-badge.svg\" alt=\"Open In Colab\"/></a>"
      ]
    },
    {
      "cell_type": "code",
      "source": [
        "from google.colab import drive\n",
        "\n",
        "drive.mount('/content/gdrive',force_remount=True)"
      ],
      "metadata": {
        "id": "uJi6B3a3fTBO",
        "colab": {
          "base_uri": "https://localhost:8080/"
        },
        "outputId": "daff9122-7403-4f20-e1f9-ef782699532b"
      },
      "execution_count": null,
      "outputs": [
        {
          "output_type": "stream",
          "name": "stdout",
          "text": [
            "Mounted at /content/gdrive\n"
          ]
        }
      ]
    },
    {
      "cell_type": "code",
      "source": [
        "%matplotlib inline\n",
        "%config InlineBackend.figure_format = 'retina'\n",
        "import os\n",
        "# import neural_structured_learning as nsl\n",
        "import glob\n",
        "import json\n",
        "import numpy as np\n",
        "\n",
        "import pandas as pd\n",
        "import matplotlib.pyplot as plt\n",
        "import tensorflow as tf\n",
        "import cv2\n",
        "from tensorflow.keras.preprocessing.image import ImageDataGenerator\n",
        "from tensorflow.keras import  applications\n",
        "from tensorflow.keras import Model\n",
        "from tensorflow.keras.models import Sequential\n",
        "from tensorflow.keras.layers import Conv2D, MaxPool2D,GlobalAveragePooling2D, Flatten, Dense, Dropout, BatchNormalization\n",
        "from tensorflow.keras.callbacks import ModelCheckpoint, EarlyStopping, ReduceLROnPlateau\n",
        "from tensorflow.keras.optimizers import Adam\n",
        "from tensorflow.keras.optimizers import SGD\n",
        "from tensorflow.keras import regularizers\n",
        "\n",
        "from keras.models import load_model\n",
        "from sklearn.metrics import confusion_matrix ,classification_report\n",
        "\n",
        "\n",
        "import itertools\n",
        "import os\n",
        "import shutil\n",
        "import random\n",
        "import glob"
      ],
      "metadata": {
        "id": "yYCcRf6jumBp"
      },
      "execution_count": null,
      "outputs": []
    },
    {
      "cell_type": "code",
      "source": [
        "pip install split-folders"
      ],
      "metadata": {
        "id": "QiPZzmRfgHB7",
        "colab": {
          "base_uri": "https://localhost:8080/"
        },
        "outputId": "09086700-f0fe-4acc-bf3f-325b133cbf04"
      },
      "execution_count": null,
      "outputs": [
        {
          "output_type": "stream",
          "name": "stdout",
          "text": [
            "Looking in indexes: https://pypi.org/simple, https://us-python.pkg.dev/colab-wheels/public/simple/\n",
            "Collecting split-folders\n",
            "  Downloading split_folders-0.5.1-py3-none-any.whl (8.4 kB)\n",
            "Installing collected packages: split-folders\n",
            "Successfully installed split-folders-0.5.1\n"
          ]
        }
      ]
    },
    {
      "cell_type": "code",
      "source": [
        "import splitfolders\n",
        "splitfolders.ratio(\"/content/gdrive/My Drive/output\", output=\"data_minor_1\", ratio=(.6, .2, .2), group_prefix=None, move=False)"
      ],
      "metadata": {
        "id": "CySxujmIgHhn",
        "colab": {
          "base_uri": "https://localhost:8080/"
        },
        "outputId": "b4a26429-cfa1-4b06-a297-e4bd646c9be9"
      },
      "execution_count": null,
      "outputs": [
        {
          "output_type": "stream",
          "name": "stderr",
          "text": [
            "Copying files: 3019 files [01:01, 49.45 files/s] \n"
          ]
        }
      ]
    },
    {
      "cell_type": "code",
      "source": [
        "train_path=\"/content/data_minor_1/train\""
      ],
      "metadata": {
        "id": "r8jaBg69gHuz"
      },
      "execution_count": null,
      "outputs": []
    },
    {
      "cell_type": "code",
      "source": [
        "train_batches=ImageDataGenerator(zoom_range=1.5,rotation_range=90,horizontal_flip=True).flow_from_directory(directory=train_path,target_size= (224,224),batch_size=10,shuffle=True,class_mode='categorical')"
      ],
      "metadata": {
        "id": "Jl9ZRjgqjGgW",
        "colab": {
          "base_uri": "https://localhost:8080/"
        },
        "outputId": "b44b6466-a381-4e36-b36f-611867cfedca"
      },
      "execution_count": null,
      "outputs": [
        {
          "output_type": "stream",
          "name": "stdout",
          "text": [
            "Found 1810 images belonging to 2 classes.\n"
          ]
        }
      ]
    },
    {
      "cell_type": "code",
      "source": [
        "val_path=\"/content/data_minor_1/val\""
      ],
      "metadata": {
        "id": "Kt1mUjcsjP68"
      },
      "execution_count": null,
      "outputs": []
    },
    {
      "cell_type": "code",
      "source": [
        "val_batches=ImageDataGenerator(zoom_range=1.5).flow_from_directory(directory=val_path,target_size= (224,224),batch_size=10,shuffle=True,class_mode='categorical')"
      ],
      "metadata": {
        "id": "VyTnjeVZjvyf",
        "colab": {
          "base_uri": "https://localhost:8080/"
        },
        "outputId": "e970a3cb-cb15-4def-d2b6-b3bc262b87c3"
      },
      "execution_count": null,
      "outputs": [
        {
          "output_type": "stream",
          "name": "stdout",
          "text": [
            "Found 603 images belonging to 2 classes.\n"
          ]
        }
      ]
    },
    {
      "cell_type": "code",
      "source": [
        "test_path=\"/content/data_minor_1/test\""
      ],
      "metadata": {
        "id": "qKP87OhvjQDr"
      },
      "execution_count": null,
      "outputs": []
    },
    {
      "cell_type": "code",
      "source": [
        "test_batches=ImageDataGenerator(zoom_range=1.5).flow_from_directory(directory=test_path,target_size= (224,224),batch_size=10,shuffle=True,class_mode='categorical')"
      ],
      "metadata": {
        "id": "0YiX1aTyj6ut",
        "colab": {
          "base_uri": "https://localhost:8080/"
        },
        "outputId": "1f2f3f1a-2196-440d-d941-44be3af4834f"
      },
      "execution_count": null,
      "outputs": [
        {
          "output_type": "stream",
          "name": "stdout",
          "text": [
            "Found 606 images belonging to 2 classes.\n"
          ]
        }
      ]
    },
    {
      "cell_type": "code",
      "source": [
        "# model = tf.keras.Sequential(\n",
        "#     [\n",
        "#      tf.keras.layers.Rescaling(1./255),\n",
        "#      tf.keras.layers.Conv2D(32, 3, activation=\"relu\"),\n",
        "#      tf.keras.layers.MaxPooling2D(),\n",
        "#      tf.keras.layers.Conv2D(32, 3, activation=\"relu\"),\n",
        "#      tf.keras.layers.MaxPooling2D(),\n",
        "#      tf.keras.layers.Conv2D(32, 3, activation=\"relu\"),\n",
        "#      tf.keras.layers.MaxPooling2D(),\n",
        "#      tf.keras.layers.Flatten(),\n",
        "#      tf.keras.layers.Dense(128, activation=\"relu\"),\n",
        "#      tf.keras.layers.Dense(2)\n",
        "#     ]\n",
        "# )\n"
      ],
      "metadata": {
        "id": "sKiERvTtwRmf"
      },
      "execution_count": null,
      "outputs": []
    },
    {
      "cell_type": "code",
      "source": [
        "# model.compile(optimizer=Adam(lr=0.001),loss='categorical_crossentropy',metrics=['accuracy'])"
      ],
      "metadata": {
        "id": "_2qTP0hk3OqK"
      },
      "execution_count": null,
      "outputs": []
    },
    {
      "cell_type": "markdown",
      "source": [],
      "metadata": {
        "id": "l3MQ9vRSkgzb"
      }
    },
    {
      "cell_type": "code",
      "source": [
        "# model.fit(\n",
        "#     train_batches,\n",
        "#     validation_data = val_batches,\n",
        "#     epochs = 50\n",
        "# )"
      ],
      "metadata": {
        "id": "ILi1YyWf3fob"
      },
      "execution_count": null,
      "outputs": []
    },
    {
      "cell_type": "code",
      "source": [
        "# model.evaluate(test_batches)\n"
      ],
      "metadata": {
        "id": "AJalZYGa3tKG"
      },
      "execution_count": null,
      "outputs": []
    },
    {
      "cell_type": "code",
      "source": [
        "\n",
        "test_batches.class_indices"
      ],
      "metadata": {
        "id": "bVSQwZ3taJW3",
        "colab": {
          "base_uri": "https://localhost:8080/"
        },
        "outputId": "d30e004e-ed73-417d-f6d3-863cb0c16879"
      },
      "execution_count": null,
      "outputs": [
        {
          "output_type": "execute_result",
          "data": {
            "text/plain": [
              "{'Healthy': 0, 'Unhealthy': 1}"
            ]
          },
          "metadata": {},
          "execution_count": 15
        }
      ]
    },
    {
      "cell_type": "markdown",
      "source": [],
      "metadata": {
        "id": "NbsnejRg1-oV"
      }
    },
    {
      "cell_type": "code",
      "source": [
        "\n",
        "# for images,labels in test_batches:\n",
        "#   classifications=model(images)"
      ],
      "metadata": {
        "id": "67RlOX2CoIIe"
      },
      "execution_count": null,
      "outputs": []
    },
    {
      "cell_type": "code",
      "source": [
        "# prediction=model.predict(x=test_batches)"
      ],
      "metadata": {
        "id": "vuBJcda5qqB3"
      },
      "execution_count": null,
      "outputs": []
    },
    {
      "cell_type": "code",
      "source": [
        "# prediction"
      ],
      "metadata": {
        "id": "Y0RP9l6kpexS"
      },
      "execution_count": null,
      "outputs": []
    },
    {
      "cell_type": "code",
      "source": [
        "# max_indices = np.argmax(prediction, axis=1)\n",
        "\n",
        "# # Print the result\n",
        "# print(max_indices)"
      ],
      "metadata": {
        "id": "U-3Q_RYJmZhp"
      },
      "execution_count": null,
      "outputs": []
    },
    {
      "cell_type": "code",
      "source": [
        "# score=0\n",
        "# for i in max_indices:\n",
        "#   if i==1:\n",
        "#    score+=-1\n",
        "#   else:\n",
        "#     score+=1\n",
        "# print(score)"
      ],
      "metadata": {
        "id": "3mWceFGkmZkd"
      },
      "execution_count": null,
      "outputs": []
    },
    {
      "cell_type": "code",
      "source": [],
      "metadata": {
        "id": "cnRf5pFHmZmm"
      },
      "execution_count": null,
      "outputs": []
    },
    {
      "cell_type": "code",
      "source": [
        "# import numpy\n",
        "\n",
        "# plt.figure(figsize=(10,10))\n",
        "# for images, labels in test_ds.take(1):\n",
        "#   classifications = model(images)\n",
        "#   # print(classifications)\n",
        "  \n",
        "#   for i in range(9):\n",
        "#     ax = plt.subplot(3, 3, i + 1)\n",
        "#     plt.imshow(images[i].numpy().astype(\"uint8\"))\n",
        "#     index = numpy.argmax(classifications[i])\n",
        "#     plt.title(\"Pred: \" + class_names[index] + \" | Real: \" + class_names[labels[i]])"
      ],
      "metadata": {
        "id": "AZXzzvArbrR7"
      },
      "execution_count": null,
      "outputs": []
    },
    {
      "cell_type": "code",
      "source": [
        "# converter = tf.lite.TFLiteConverter.from_keras_model(model)\n",
        "# tflite_model = converter.convert()\n",
        "\n",
        "# with open(\"model.tflite\", 'wb') as f:\n",
        "#   f.write(tflite_model)"
      ],
      "metadata": {
        "id": "P8ySxVJubs7Q"
      },
      "execution_count": null,
      "outputs": []
    },
    {
      "cell_type": "code",
      "source": [
        "# import tensorflow as tf\n",
        "# from tensorflow.keras.applications.densenet import DenseNet121\n",
        "# from tensorflow.keras.layers import Dense, Flatten\n",
        "# from tensorflow.keras.models import Model\n",
        "\n",
        "# # Load the pre-trained model\n",
        "# base_model = DenseNet121(weights='imagenet', include_top=False, input_shape=(224, 224, 3))\n",
        "\n",
        "# # Freeze the pre-trained layers\n",
        "# for layer in base_model.layers:\n",
        "#     layer.trainable = False\n",
        "\n",
        "# # Add a new output layer for binary classification\n",
        "# x = base_model.output\n",
        "# x = Flatten()(x)\n",
        "# x = Dense(128, activation='relu')(x)\n",
        "# predictions = Dense(2, activation='softmax')(x)\n",
        "\n",
        "# # Create the new model\n",
        "# model_de = Model(inputs=base_model.input, outputs=predictions)\n",
        "\n",
        "# # Compile the model\n",
        "# model_de.compile(optimizer='adam', loss='binary_crossentropy', metrics=['accuracy'])\n",
        "\n",
        "# # Train the model on your data\n",
        "# model_de.fit(\n",
        "#     train_batches,\n",
        "#     validation_data = val_batches,\n",
        "#     epochs = 30\n",
        "# )\n"
      ],
      "metadata": {
        "id": "THo26r_C030Q"
      },
      "execution_count": null,
      "outputs": []
    },
    {
      "cell_type": "code",
      "source": [
        "import tensorflow as tf\n",
        "from tensorflow.keras.applications.resnet50 import ResNet50\n",
        "from tensorflow.keras.layers import Dense, Flatten\n",
        "from tensorflow.keras.models import Model\n",
        "\n",
        "# Load the pre-trained model\n",
        "base_model = ResNet50(weights='imagenet', include_top=False, input_shape=(224, 224, 3))\n",
        "\n",
        "# Freeze the pre-trained layers\n",
        "for layer in base_model.layers:\n",
        "    layer.trainable = False\n",
        "\n",
        "# Add a new output layer for classification\n",
        "x = base_model.output\n",
        "x = Flatten()(x)\n",
        "x = Dense(128, activation='relu')(x)\n",
        "predictions = Dense(2, activation='softmax')(x)\n",
        "\n",
        "# Create the new model\n",
        "model_re = Model(inputs=base_model.input, outputs=predictions)\n",
        "\n",
        "# Compile the model\n",
        "model_re.compile(optimizer='adam', loss='categorical_crossentropy', metrics=['accuracy'])\n",
        "\n",
        "# Train the model on your data\n",
        "model_re.fit(\n",
        "    train_batches,\n",
        "    validation_data = val_batches,\n",
        "    epochs = 90\n",
        ")\n"
      ],
      "metadata": {
        "id": "cLUmdm_q9EZL",
        "colab": {
          "base_uri": "https://localhost:8080/"
        },
        "outputId": "a4c35e79-b5c4-4cd8-cd6a-b101abee69d0"
      },
      "execution_count": null,
      "outputs": [
        {
          "output_type": "stream",
          "name": "stdout",
          "text": [
            "Downloading data from https://storage.googleapis.com/tensorflow/keras-applications/resnet/resnet50_weights_tf_dim_ordering_tf_kernels_notop.h5\n",
            "94765736/94765736 [==============================] - 6s 0us/step\n",
            "Epoch 1/90\n",
            "181/181 [==============================] - 74s 338ms/step - loss: 3.9036 - accuracy: 0.6851 - val_loss: 0.9746 - val_accuracy: 0.7164\n",
            "Epoch 2/90\n",
            "181/181 [==============================] - 52s 289ms/step - loss: 0.7461 - accuracy: 0.7436 - val_loss: 0.7506 - val_accuracy: 0.6965\n",
            "Epoch 3/90\n",
            "181/181 [==============================] - 51s 281ms/step - loss: 0.4926 - accuracy: 0.7718 - val_loss: 0.4616 - val_accuracy: 0.7761\n",
            "Epoch 4/90\n",
            "181/181 [==============================] - 60s 331ms/step - loss: 0.4103 - accuracy: 0.8166 - val_loss: 0.4347 - val_accuracy: 0.7927\n",
            "Epoch 5/90\n",
            "181/181 [==============================] - 52s 289ms/step - loss: 0.3605 - accuracy: 0.8348 - val_loss: 0.3944 - val_accuracy: 0.8226\n",
            "Epoch 6/90\n",
            "181/181 [==============================] - 53s 292ms/step - loss: 0.3647 - accuracy: 0.8326 - val_loss: 0.3810 - val_accuracy: 0.8209\n",
            "Epoch 7/90\n",
            "181/181 [==============================] - 54s 299ms/step - loss: 0.3503 - accuracy: 0.8387 - val_loss: 0.3529 - val_accuracy: 0.8425\n",
            "Epoch 8/90\n",
            "181/181 [==============================] - 61s 337ms/step - loss: 0.3563 - accuracy: 0.8475 - val_loss: 0.3799 - val_accuracy: 0.8027\n",
            "Epoch 9/90\n",
            "181/181 [==============================] - 61s 338ms/step - loss: 0.3257 - accuracy: 0.8503 - val_loss: 0.3411 - val_accuracy: 0.8342\n",
            "Epoch 10/90\n",
            "181/181 [==============================] - 53s 295ms/step - loss: 0.3346 - accuracy: 0.8492 - val_loss: 0.3628 - val_accuracy: 0.8458\n",
            "Epoch 11/90\n",
            "181/181 [==============================] - 53s 293ms/step - loss: 0.3231 - accuracy: 0.8575 - val_loss: 0.3165 - val_accuracy: 0.8458\n",
            "Epoch 12/90\n",
            "181/181 [==============================] - 53s 293ms/step - loss: 0.3369 - accuracy: 0.8536 - val_loss: 0.3711 - val_accuracy: 0.8292\n",
            "Epoch 13/90\n",
            "181/181 [==============================] - 53s 292ms/step - loss: 0.2873 - accuracy: 0.8713 - val_loss: 0.3398 - val_accuracy: 0.8425\n",
            "Epoch 14/90\n",
            "181/181 [==============================] - 52s 288ms/step - loss: 0.2777 - accuracy: 0.8757 - val_loss: 0.3384 - val_accuracy: 0.8524\n",
            "Epoch 15/90\n",
            "181/181 [==============================] - 53s 293ms/step - loss: 0.3145 - accuracy: 0.8652 - val_loss: 0.3858 - val_accuracy: 0.8275\n",
            "Epoch 16/90\n",
            "181/181 [==============================] - 51s 283ms/step - loss: 0.2851 - accuracy: 0.8785 - val_loss: 0.2961 - val_accuracy: 0.8673\n",
            "Epoch 17/90\n",
            "181/181 [==============================] - 53s 293ms/step - loss: 0.2950 - accuracy: 0.8619 - val_loss: 0.2880 - val_accuracy: 0.8624\n",
            "Epoch 18/90\n",
            "181/181 [==============================] - 52s 289ms/step - loss: 0.2862 - accuracy: 0.8773 - val_loss: 0.3202 - val_accuracy: 0.8491\n",
            "Epoch 19/90\n",
            "181/181 [==============================] - 53s 291ms/step - loss: 0.2999 - accuracy: 0.8646 - val_loss: 0.3381 - val_accuracy: 0.8541\n",
            "Epoch 20/90\n",
            "181/181 [==============================] - 53s 292ms/step - loss: 0.2931 - accuracy: 0.8674 - val_loss: 0.3345 - val_accuracy: 0.8391\n",
            "Epoch 21/90\n",
            "181/181 [==============================] - 60s 333ms/step - loss: 0.2486 - accuracy: 0.8856 - val_loss: 0.3082 - val_accuracy: 0.8607\n",
            "Epoch 22/90\n",
            "181/181 [==============================] - 55s 305ms/step - loss: 0.2698 - accuracy: 0.8801 - val_loss: 0.2640 - val_accuracy: 0.8723\n",
            "Epoch 23/90\n",
            "181/181 [==============================] - 53s 291ms/step - loss: 0.2603 - accuracy: 0.8867 - val_loss: 0.4001 - val_accuracy: 0.8209\n",
            "Epoch 24/90\n",
            "181/181 [==============================] - 53s 291ms/step - loss: 0.2653 - accuracy: 0.8785 - val_loss: 0.3282 - val_accuracy: 0.8507\n",
            "Epoch 25/90\n",
            "181/181 [==============================] - 53s 294ms/step - loss: 0.2688 - accuracy: 0.8740 - val_loss: 0.2802 - val_accuracy: 0.8541\n",
            "Epoch 26/90\n",
            "181/181 [==============================] - 53s 293ms/step - loss: 0.2442 - accuracy: 0.8912 - val_loss: 0.3060 - val_accuracy: 0.8574\n",
            "Epoch 27/90\n",
            "181/181 [==============================] - 53s 292ms/step - loss: 0.2597 - accuracy: 0.8812 - val_loss: 0.2851 - val_accuracy: 0.8773\n",
            "Epoch 28/90\n",
            "181/181 [==============================] - 53s 292ms/step - loss: 0.2263 - accuracy: 0.8961 - val_loss: 0.2945 - val_accuracy: 0.8756\n",
            "Epoch 29/90\n",
            "181/181 [==============================] - 53s 295ms/step - loss: 0.2455 - accuracy: 0.8906 - val_loss: 0.2595 - val_accuracy: 0.8872\n",
            "Epoch 30/90\n",
            "181/181 [==============================] - 53s 294ms/step - loss: 0.2439 - accuracy: 0.8867 - val_loss: 0.2208 - val_accuracy: 0.8972\n",
            "Epoch 31/90\n",
            "181/181 [==============================] - 52s 285ms/step - loss: 0.2479 - accuracy: 0.8801 - val_loss: 0.2437 - val_accuracy: 0.8839\n",
            "Epoch 32/90\n",
            "181/181 [==============================] - 53s 293ms/step - loss: 0.2292 - accuracy: 0.8972 - val_loss: 0.2622 - val_accuracy: 0.8872\n",
            "Epoch 33/90\n",
            "181/181 [==============================] - 53s 295ms/step - loss: 0.2506 - accuracy: 0.8867 - val_loss: 0.2913 - val_accuracy: 0.8690\n",
            "Epoch 34/90\n",
            "181/181 [==============================] - 53s 293ms/step - loss: 0.2390 - accuracy: 0.8928 - val_loss: 0.5500 - val_accuracy: 0.8192\n",
            "Epoch 35/90\n",
            "181/181 [==============================] - 53s 292ms/step - loss: 0.2396 - accuracy: 0.8867 - val_loss: 0.2665 - val_accuracy: 0.8690\n",
            "Epoch 36/90\n",
            "181/181 [==============================] - 53s 294ms/step - loss: 0.2332 - accuracy: 0.9055 - val_loss: 0.2952 - val_accuracy: 0.8524\n",
            "Epoch 37/90\n",
            "181/181 [==============================] - 52s 290ms/step - loss: 0.2183 - accuracy: 0.8983 - val_loss: 0.2428 - val_accuracy: 0.8922\n",
            "Epoch 38/90\n",
            "181/181 [==============================] - 53s 292ms/step - loss: 0.2562 - accuracy: 0.8901 - val_loss: 0.2555 - val_accuracy: 0.8690\n",
            "Epoch 39/90\n",
            "181/181 [==============================] - 53s 291ms/step - loss: 0.2189 - accuracy: 0.8945 - val_loss: 0.2553 - val_accuracy: 0.8939\n",
            "Epoch 40/90\n",
            "181/181 [==============================] - 51s 281ms/step - loss: 0.2153 - accuracy: 0.8939 - val_loss: 0.3983 - val_accuracy: 0.8325\n",
            "Epoch 41/90\n",
            "181/181 [==============================] - 53s 295ms/step - loss: 0.2515 - accuracy: 0.8939 - val_loss: 0.3106 - val_accuracy: 0.8657\n",
            "Epoch 42/90\n",
            "181/181 [==============================] - 53s 290ms/step - loss: 0.2497 - accuracy: 0.8895 - val_loss: 0.2418 - val_accuracy: 0.8789\n",
            "Epoch 43/90\n",
            "181/181 [==============================] - 52s 285ms/step - loss: 0.2079 - accuracy: 0.9033 - val_loss: 0.2591 - val_accuracy: 0.8806\n",
            "Epoch 44/90\n",
            "181/181 [==============================] - 53s 293ms/step - loss: 0.2021 - accuracy: 0.9039 - val_loss: 0.2595 - val_accuracy: 0.8905\n",
            "Epoch 45/90\n",
            "181/181 [==============================] - 52s 289ms/step - loss: 0.2393 - accuracy: 0.8884 - val_loss: 0.2407 - val_accuracy: 0.8905\n",
            "Epoch 46/90\n",
            "181/181 [==============================] - 53s 292ms/step - loss: 0.2344 - accuracy: 0.8967 - val_loss: 0.2112 - val_accuracy: 0.9038\n",
            "Epoch 47/90\n",
            "181/181 [==============================] - 53s 292ms/step - loss: 0.1919 - accuracy: 0.9077 - val_loss: 0.2990 - val_accuracy: 0.8557\n",
            "Epoch 48/90\n",
            "181/181 [==============================] - 52s 290ms/step - loss: 0.1936 - accuracy: 0.9105 - val_loss: 0.2990 - val_accuracy: 0.8574\n",
            "Epoch 49/90\n",
            "181/181 [==============================] - 50s 278ms/step - loss: 0.2176 - accuracy: 0.9006 - val_loss: 0.3095 - val_accuracy: 0.8590\n",
            "Epoch 50/90\n",
            "181/181 [==============================] - 53s 291ms/step - loss: 0.2138 - accuracy: 0.9044 - val_loss: 0.2609 - val_accuracy: 0.8972\n",
            "Epoch 51/90\n",
            "181/181 [==============================] - 52s 287ms/step - loss: 0.2012 - accuracy: 0.9116 - val_loss: 0.2232 - val_accuracy: 0.8773\n",
            "Epoch 52/90\n",
            "181/181 [==============================] - 51s 280ms/step - loss: 0.1955 - accuracy: 0.9033 - val_loss: 0.2603 - val_accuracy: 0.8789\n",
            "Epoch 53/90\n",
            "181/181 [==============================] - 60s 332ms/step - loss: 0.1834 - accuracy: 0.9238 - val_loss: 0.2855 - val_accuracy: 0.8823\n",
            "Epoch 54/90\n",
            "181/181 [==============================] - 53s 292ms/step - loss: 0.2007 - accuracy: 0.9017 - val_loss: 0.2320 - val_accuracy: 0.9104\n",
            "Epoch 55/90\n",
            "181/181 [==============================] - 53s 293ms/step - loss: 0.1966 - accuracy: 0.9099 - val_loss: 0.2745 - val_accuracy: 0.8773\n",
            "Epoch 56/90\n",
            "181/181 [==============================] - 53s 292ms/step - loss: 0.1981 - accuracy: 0.9061 - val_loss: 0.2246 - val_accuracy: 0.8988\n",
            "Epoch 57/90\n",
            "181/181 [==============================] - 53s 291ms/step - loss: 0.1838 - accuracy: 0.9249 - val_loss: 0.2016 - val_accuracy: 0.9038\n",
            "Epoch 58/90\n",
            "181/181 [==============================] - 53s 296ms/step - loss: 0.1997 - accuracy: 0.9055 - val_loss: 0.2384 - val_accuracy: 0.8922\n",
            "Epoch 59/90\n",
            "181/181 [==============================] - 52s 286ms/step - loss: 0.1905 - accuracy: 0.9116 - val_loss: 0.2103 - val_accuracy: 0.9005\n",
            "Epoch 60/90\n",
            "181/181 [==============================] - 53s 294ms/step - loss: 0.1937 - accuracy: 0.9110 - val_loss: 0.2339 - val_accuracy: 0.8756\n",
            "Epoch 61/90\n",
            "181/181 [==============================] - 51s 284ms/step - loss: 0.1879 - accuracy: 0.9110 - val_loss: 0.3507 - val_accuracy: 0.8706\n",
            "Epoch 62/90\n",
            "181/181 [==============================] - 53s 292ms/step - loss: 0.2142 - accuracy: 0.8989 - val_loss: 0.2490 - val_accuracy: 0.8806\n",
            "Epoch 63/90\n",
            "181/181 [==============================] - 53s 293ms/step - loss: 0.1845 - accuracy: 0.9094 - val_loss: 0.2414 - val_accuracy: 0.8988\n",
            "Epoch 64/90\n",
            "181/181 [==============================] - 53s 290ms/step - loss: 0.2089 - accuracy: 0.9072 - val_loss: 0.2807 - val_accuracy: 0.8756\n",
            "Epoch 65/90\n",
            "181/181 [==============================] - 53s 293ms/step - loss: 0.1887 - accuracy: 0.9166 - val_loss: 0.1735 - val_accuracy: 0.9254\n",
            "Epoch 66/90\n",
            "181/181 [==============================] - 60s 331ms/step - loss: 0.1814 - accuracy: 0.9193 - val_loss: 0.2128 - val_accuracy: 0.9104\n",
            "Epoch 67/90\n",
            "181/181 [==============================] - 53s 294ms/step - loss: 0.1961 - accuracy: 0.9055 - val_loss: 0.2690 - val_accuracy: 0.8740\n",
            "Epoch 68/90\n",
            "181/181 [==============================] - 61s 335ms/step - loss: 0.1974 - accuracy: 0.9193 - val_loss: 0.2336 - val_accuracy: 0.9138\n",
            "Epoch 69/90\n",
            "181/181 [==============================] - 53s 293ms/step - loss: 0.1876 - accuracy: 0.9254 - val_loss: 0.2642 - val_accuracy: 0.8922\n",
            "Epoch 70/90\n",
            "181/181 [==============================] - 53s 291ms/step - loss: 0.1864 - accuracy: 0.9227 - val_loss: 0.3346 - val_accuracy: 0.8839\n",
            "Epoch 71/90\n",
            "181/181 [==============================] - 53s 290ms/step - loss: 0.1897 - accuracy: 0.9199 - val_loss: 0.2089 - val_accuracy: 0.9171\n",
            "Epoch 72/90\n",
            "181/181 [==============================] - 53s 294ms/step - loss: 0.1877 - accuracy: 0.9249 - val_loss: 0.2911 - val_accuracy: 0.8673\n",
            "Epoch 73/90\n",
            "181/181 [==============================] - 53s 293ms/step - loss: 0.2004 - accuracy: 0.9171 - val_loss: 0.1906 - val_accuracy: 0.9138\n",
            "Epoch 74/90\n",
            "181/181 [==============================] - 53s 295ms/step - loss: 0.1648 - accuracy: 0.9293 - val_loss: 0.2195 - val_accuracy: 0.9088\n",
            "Epoch 75/90\n",
            "181/181 [==============================] - 61s 336ms/step - loss: 0.1688 - accuracy: 0.9221 - val_loss: 0.1937 - val_accuracy: 0.8872\n",
            "Epoch 76/90\n",
            "181/181 [==============================] - 53s 293ms/step - loss: 0.1619 - accuracy: 0.9276 - val_loss: 0.1759 - val_accuracy: 0.9270\n",
            "Epoch 77/90\n",
            "181/181 [==============================] - 53s 295ms/step - loss: 0.1736 - accuracy: 0.9249 - val_loss: 0.2061 - val_accuracy: 0.9071\n",
            "Epoch 78/90\n",
            "181/181 [==============================] - 51s 285ms/step - loss: 0.1788 - accuracy: 0.9276 - val_loss: 0.2970 - val_accuracy: 0.8839\n",
            "Epoch 79/90\n",
            "181/181 [==============================] - 53s 295ms/step - loss: 0.1744 - accuracy: 0.9227 - val_loss: 0.3196 - val_accuracy: 0.8856\n",
            "Epoch 80/90\n",
            "181/181 [==============================] - 52s 286ms/step - loss: 0.1635 - accuracy: 0.9304 - val_loss: 0.2174 - val_accuracy: 0.9154\n",
            "Epoch 81/90\n",
            "181/181 [==============================] - 53s 291ms/step - loss: 0.1701 - accuracy: 0.9282 - val_loss: 0.3183 - val_accuracy: 0.8922\n",
            "Epoch 82/90\n",
            "181/181 [==============================] - 53s 295ms/step - loss: 0.1718 - accuracy: 0.9343 - val_loss: 0.3088 - val_accuracy: 0.8889\n",
            "Epoch 83/90\n",
            "181/181 [==============================] - 53s 293ms/step - loss: 0.1464 - accuracy: 0.9320 - val_loss: 0.3218 - val_accuracy: 0.8773\n",
            "Epoch 84/90\n",
            "181/181 [==============================] - 53s 292ms/step - loss: 0.1678 - accuracy: 0.9232 - val_loss: 0.2565 - val_accuracy: 0.9038\n",
            "Epoch 85/90\n",
            "181/181 [==============================] - 54s 296ms/step - loss: 0.1435 - accuracy: 0.9392 - val_loss: 0.2186 - val_accuracy: 0.8872\n",
            "Epoch 86/90\n",
            "181/181 [==============================] - 53s 295ms/step - loss: 0.1670 - accuracy: 0.9265 - val_loss: 0.2351 - val_accuracy: 0.9005\n",
            "Epoch 87/90\n",
            "181/181 [==============================] - 54s 297ms/step - loss: 0.1489 - accuracy: 0.9365 - val_loss: 0.1795 - val_accuracy: 0.9270\n",
            "Epoch 88/90\n",
            "181/181 [==============================] - 53s 295ms/step - loss: 0.1679 - accuracy: 0.9304 - val_loss: 0.1902 - val_accuracy: 0.9154\n",
            "Epoch 89/90\n",
            "181/181 [==============================] - 54s 296ms/step - loss: 0.1665 - accuracy: 0.9243 - val_loss: 0.2709 - val_accuracy: 0.8856\n",
            "Epoch 90/90\n",
            "181/181 [==============================] - 61s 339ms/step - loss: 0.1905 - accuracy: 0.9099 - val_loss: 0.2267 - val_accuracy: 0.8988\n"
          ]
        },
        {
          "output_type": "execute_result",
          "data": {
            "text/plain": [
              "<keras.callbacks.History at 0x7fc5901c4580>"
            ]
          },
          "metadata": {},
          "execution_count": 24
        }
      ]
    },
    {
      "cell_type": "code",
      "source": [
        "model_re.evaluate(test_batches)"
      ],
      "metadata": {
        "id": "4-Mv_E7ZJLGs",
        "colab": {
          "base_uri": "https://localhost:8080/"
        },
        "outputId": "a84b1397-3215-49e0-9004-12a40493cafd"
      },
      "execution_count": null,
      "outputs": [
        {
          "output_type": "stream",
          "name": "stdout",
          "text": [
            "61/61 [==============================] - 14s 229ms/step - loss: 0.2722 - accuracy: 0.8927\n"
          ]
        },
        {
          "output_type": "execute_result",
          "data": {
            "text/plain": [
              "[0.27222034335136414, 0.8927392959594727]"
            ]
          },
          "metadata": {},
          "execution_count": 25
        }
      ]
    },
    {
      "cell_type": "code",
      "source": [
        "prediction=model_re.predict(x=test_batches)"
      ],
      "metadata": {
        "id": "6ufcwgK1MHHM",
        "colab": {
          "base_uri": "https://localhost:8080/"
        },
        "outputId": "99b726fd-6dc8-4ca0-b72a-f9529ae7e623"
      },
      "execution_count": null,
      "outputs": [
        {
          "output_type": "stream",
          "name": "stdout",
          "text": [
            "61/61 [==============================] - 14s 198ms/step\n"
          ]
        }
      ]
    },
    {
      "cell_type": "code",
      "source": [
        "prediction"
      ],
      "metadata": {
        "id": "KwuDXxzpMHHQ",
        "colab": {
          "base_uri": "https://localhost:8080/"
        },
        "outputId": "a8f65c01-46fe-4d0e-963d-44cca5130a50"
      },
      "execution_count": null,
      "outputs": [
        {
          "output_type": "execute_result",
          "data": {
            "text/plain": [
              "array([[3.1623295e-01, 6.8376702e-01],\n",
              "       [9.9917090e-01, 8.2910043e-04],\n",
              "       [9.9320728e-01, 6.7926492e-03],\n",
              "       ...,\n",
              "       [9.9999869e-01, 1.3074955e-06],\n",
              "       [1.7479534e-01, 8.2520467e-01],\n",
              "       [9.9921477e-01, 7.8520150e-04]], dtype=float32)"
            ]
          },
          "metadata": {},
          "execution_count": 27
        }
      ]
    },
    {
      "cell_type": "code",
      "source": [
        "max_indices = np.argmax(prediction, axis=1)\n",
        "\n",
        "# Print the result\n",
        "print(max_indices)"
      ],
      "metadata": {
        "id": "fS-84cXYMHHS",
        "colab": {
          "base_uri": "https://localhost:8080/"
        },
        "outputId": "cdf396c0-c2b2-475b-d00e-da0cfb2e2cb2"
      },
      "execution_count": null,
      "outputs": [
        {
          "output_type": "stream",
          "name": "stdout",
          "text": [
            "[1 0 0 0 1 0 1 1 1 1 1 0 1 1 1 0 0 1 1 0 1 0 1 1 1 0 0 1 0 1 0 1 1 1 1 1 1\n",
            " 1 1 1 1 1 1 1 0 1 1 1 0 0 0 1 1 0 1 1 0 1 1 1 1 1 0 1 0 1 0 0 1 0 1 0 1 1\n",
            " 1 1 1 1 1 1 1 0 0 0 1 1 1 1 1 1 0 0 1 1 0 1 0 1 1 1 1 0 0 1 1 0 0 0 1 1 0\n",
            " 1 0 0 1 0 0 0 0 1 1 1 1 1 0 0 1 0 0 1 1 1 1 1 1 0 1 1 1 1 1 0 1 0 1 0 0 0\n",
            " 0 1 1 0 1 1 0 0 0 1 1 1 1 1 1 0 0 1 0 1 0 1 1 1 1 0 1 1 0 1 0 0 1 0 0 1 0\n",
            " 0 1 0 0 1 0 0 1 1 0 1 1 0 1 0 1 0 1 1 1 0 1 1 1 0 0 1 0 1 1 1 1 1 1 1 0 0\n",
            " 0 1 0 0 0 0 0 0 0 0 0 1 1 0 1 0 1 1 1 1 0 1 1 0 1 0 0 1 1 1 0 0 0 1 0 1 1\n",
            " 1 1 0 1 0 1 1 1 0 0 1 1 0 0 0 1 0 1 1 1 1 0 1 0 0 1 0 0 0 1 0 1 1 1 1 1 0\n",
            " 0 1 1 0 0 1 0 1 0 1 0 0 0 0 1 0 0 1 0 0 0 0 0 0 0 0 0 1 1 0 1 1 1 1 1 1 0\n",
            " 1 1 0 1 1 0 0 0 0 0 1 1 0 0 0 0 0 0 1 1 0 1 1 0 1 1 0 1 0 1 1 1 0 1 1 0 1\n",
            " 1 0 1 0 1 0 0 0 1 1 1 1 1 1 0 0 1 0 0 1 1 1 0 0 0 1 1 1 1 1 0 1 1 1 1 1 1\n",
            " 1 1 1 0 0 0 0 0 0 0 0 0 0 0 1 0 1 0 1 1 0 0 1 1 1 1 1 0 1 1 0 1 0 1 1 0 1\n",
            " 0 0 0 0 0 0 1 0 0 1 1 1 1 1 1 0 0 1 0 0 1 1 1 0 0 1 1 1 1 1 0 0 1 1 0 0 0\n",
            " 1 0 0 0 1 0 0 1 0 0 1 0 0 1 1 0 0 0 0 1 1 0 1 1 1 0 1 1 0 1 0 0 1 0 0 0 0\n",
            " 1 0 1 0 1 1 1 1 0 0 0 1 1 0 1 0 0 0 1 0 1 0 1 1 0 0 0 0 1 1 0 0 0 1 0 1 0\n",
            " 1 0 1 0 0 0 1 1 1 0 1 1 0 1 0 0 0 1 0 0 0 0 0 0 1 1 1 1 0 1 1 0 1 1 1 1 1\n",
            " 0 0 1 1 0 1 0 1 0 0 1 0 1 0]\n"
          ]
        }
      ]
    },
    {
      "cell_type": "code",
      "source": [
        "score=0\n",
        "for i in max_indices:\n",
        "  if i==1:\n",
        "   score+=-1\n",
        "  else:\n",
        "    score+=1\n",
        "print(score)"
      ],
      "metadata": {
        "id": "Y8tI_f-TMHHV",
        "colab": {
          "base_uri": "https://localhost:8080/"
        },
        "outputId": "a3441805-f9fb-4c78-c002-bbd34584b5df"
      },
      "execution_count": null,
      "outputs": [
        {
          "output_type": "stream",
          "name": "stdout",
          "text": [
            "-48\n"
          ]
        }
      ]
    },
    {
      "cell_type": "markdown",
      "source": [
        "# **Deploy**"
      ],
      "metadata": {
        "id": "PvxS03tOOaXm"
      }
    },
    {
      "cell_type": "code",
      "source": [
        "tf.keras.models.save_model(model_re,'my_model3.hdf5')"
      ],
      "metadata": {
        "id": "wRkMRal_lRO_"
      },
      "execution_count": null,
      "outputs": []
    },
    {
      "cell_type": "code",
      "source": [
        "# !pip install streamlit"
      ],
      "metadata": {
        "id": "09IJdukNMLU-",
        "colab": {
          "base_uri": "https://localhost:8080/"
        },
        "outputId": "3b4e6ca4-610d-4379-b028-81e648008ddd"
      },
      "execution_count": null,
      "outputs": [
        {
          "output_type": "stream",
          "name": "stdout",
          "text": [
            "Looking in indexes: https://pypi.org/simple, https://us-python.pkg.dev/colab-wheels/public/simple/\n",
            "Collecting streamlit\n",
            "  Downloading streamlit-1.21.0-py2.py3-none-any.whl (9.7 MB)\n",
            "\u001b[2K     \u001b[90m━━━━━━━━━━━━━━━━━━━━━━━━━━━━━━━━━━━━━━━━\u001b[0m \u001b[32m9.7/9.7 MB\u001b[0m \u001b[31m78.5 MB/s\u001b[0m eta \u001b[36m0:00:00\u001b[0m\n",
            "\u001b[?25hRequirement already satisfied: rich>=10.11.0 in /usr/local/lib/python3.9/dist-packages (from streamlit) (13.3.3)\n",
            "Collecting gitpython!=3.1.19\n",
            "  Downloading GitPython-3.1.31-py3-none-any.whl (184 kB)\n",
            "\u001b[2K     \u001b[90m━━━━━━━━━━━━━━━━━━━━━━━━━━━━━━━━━━━━━━\u001b[0m \u001b[32m184.3/184.3 kB\u001b[0m \u001b[31m23.6 MB/s\u001b[0m eta \u001b[36m0:00:00\u001b[0m\n",
            "\u001b[?25hRequirement already satisfied: importlib-metadata>=1.4 in /usr/local/lib/python3.9/dist-packages (from streamlit) (6.3.0)\n",
            "Collecting pydeck>=0.1.dev5\n",
            "  Downloading pydeck-0.8.1b0-py2.py3-none-any.whl (4.8 MB)\n",
            "\u001b[2K     \u001b[90m━━━━━━━━━━━━━━━━━━━━━━━━━━━━━━━━━━━━━━━━\u001b[0m \u001b[32m4.8/4.8 MB\u001b[0m \u001b[31m66.4 MB/s\u001b[0m eta \u001b[36m0:00:00\u001b[0m\n",
            "\u001b[?25hCollecting pympler>=0.9\n",
            "  Downloading Pympler-1.0.1-py3-none-any.whl (164 kB)\n",
            "\u001b[2K     \u001b[90m━━━━━━━━━━━━━━━━━━━━━━━━━━━━━━━━━━━━━━\u001b[0m \u001b[32m164.8/164.8 kB\u001b[0m \u001b[31m25.9 MB/s\u001b[0m eta \u001b[36m0:00:00\u001b[0m\n",
            "\u001b[?25hRequirement already satisfied: protobuf<4,>=3.12 in /usr/local/lib/python3.9/dist-packages (from streamlit) (3.20.3)\n",
            "Requirement already satisfied: typing-extensions>=3.10.0.0 in /usr/local/lib/python3.9/dist-packages (from streamlit) (4.5.0)\n",
            "Collecting blinker>=1.0.0\n",
            "  Downloading blinker-1.6.2-py3-none-any.whl (13 kB)\n",
            "Requirement already satisfied: toml in /usr/local/lib/python3.9/dist-packages (from streamlit) (0.10.2)\n",
            "Requirement already satisfied: python-dateutil in /usr/local/lib/python3.9/dist-packages (from streamlit) (2.8.2)\n",
            "Collecting validators>=0.2\n",
            "  Downloading validators-0.20.0.tar.gz (30 kB)\n",
            "  Preparing metadata (setup.py) ... \u001b[?25l\u001b[?25hdone\n",
            "Requirement already satisfied: altair<5,>=3.2.0 in /usr/local/lib/python3.9/dist-packages (from streamlit) (4.2.2)\n",
            "Requirement already satisfied: numpy in /usr/local/lib/python3.9/dist-packages (from streamlit) (1.22.4)\n",
            "Requirement already satisfied: click>=7.0 in /usr/local/lib/python3.9/dist-packages (from streamlit) (8.1.3)\n",
            "Requirement already satisfied: cachetools>=4.0 in /usr/local/lib/python3.9/dist-packages (from streamlit) (5.3.0)\n",
            "Requirement already satisfied: tzlocal>=1.1 in /usr/local/lib/python3.9/dist-packages (from streamlit) (4.3)\n",
            "Requirement already satisfied: pandas<2,>=0.25 in /usr/local/lib/python3.9/dist-packages (from streamlit) (1.5.3)\n",
            "Collecting watchdog\n",
            "  Downloading watchdog-3.0.0-py3-none-manylinux2014_x86_64.whl (82 kB)\n",
            "\u001b[2K     \u001b[90m━━━━━━━━━━━━━━━━━━━━━━━━━━━━━━━━━━━━━━━━\u001b[0m \u001b[32m82.1/82.1 kB\u001b[0m \u001b[31m11.7 MB/s\u001b[0m eta \u001b[36m0:00:00\u001b[0m\n",
            "\u001b[?25hRequirement already satisfied: requests>=2.4 in /usr/local/lib/python3.9/dist-packages (from streamlit) (2.27.1)\n",
            "Requirement already satisfied: tornado>=6.0.3 in /usr/local/lib/python3.9/dist-packages (from streamlit) (6.2)\n",
            "Requirement already satisfied: packaging>=14.1 in /usr/local/lib/python3.9/dist-packages (from streamlit) (23.0)\n",
            "Requirement already satisfied: pyarrow>=4.0 in /usr/local/lib/python3.9/dist-packages (from streamlit) (9.0.0)\n",
            "Requirement already satisfied: pillow>=6.2.0 in /usr/local/lib/python3.9/dist-packages (from streamlit) (8.4.0)\n",
            "Requirement already satisfied: entrypoints in /usr/local/lib/python3.9/dist-packages (from altair<5,>=3.2.0->streamlit) (0.4)\n",
            "Requirement already satisfied: jsonschema>=3.0 in /usr/local/lib/python3.9/dist-packages (from altair<5,>=3.2.0->streamlit) (4.3.3)\n",
            "Requirement already satisfied: jinja2 in /usr/local/lib/python3.9/dist-packages (from altair<5,>=3.2.0->streamlit) (3.1.2)\n",
            "Requirement already satisfied: toolz in /usr/local/lib/python3.9/dist-packages (from altair<5,>=3.2.0->streamlit) (0.12.0)\n",
            "Collecting gitdb<5,>=4.0.1\n",
            "  Downloading gitdb-4.0.10-py3-none-any.whl (62 kB)\n",
            "\u001b[2K     \u001b[90m━━━━━━━━━━━━━━━━━━━━━━━━━━━━━━━━━━━━━━━━\u001b[0m \u001b[32m62.7/62.7 kB\u001b[0m \u001b[31m7.1 MB/s\u001b[0m eta \u001b[36m0:00:00\u001b[0m\n",
            "\u001b[?25hRequirement already satisfied: zipp>=0.5 in /usr/local/lib/python3.9/dist-packages (from importlib-metadata>=1.4->streamlit) (3.15.0)\n",
            "Requirement already satisfied: pytz>=2020.1 in /usr/local/lib/python3.9/dist-packages (from pandas<2,>=0.25->streamlit) (2022.7.1)\n",
            "Requirement already satisfied: six>=1.5 in /usr/local/lib/python3.9/dist-packages (from python-dateutil->streamlit) (1.16.0)\n",
            "Requirement already satisfied: certifi>=2017.4.17 in /usr/local/lib/python3.9/dist-packages (from requests>=2.4->streamlit) (2022.12.7)\n",
            "Requirement already satisfied: idna<4,>=2.5 in /usr/local/lib/python3.9/dist-packages (from requests>=2.4->streamlit) (3.4)\n",
            "Requirement already satisfied: urllib3<1.27,>=1.21.1 in /usr/local/lib/python3.9/dist-packages (from requests>=2.4->streamlit) (1.26.15)\n",
            "Requirement already satisfied: charset-normalizer~=2.0.0 in /usr/local/lib/python3.9/dist-packages (from requests>=2.4->streamlit) (2.0.12)\n",
            "Requirement already satisfied: markdown-it-py<3.0.0,>=2.2.0 in /usr/local/lib/python3.9/dist-packages (from rich>=10.11.0->streamlit) (2.2.0)\n",
            "Requirement already satisfied: pygments<3.0.0,>=2.13.0 in /usr/local/lib/python3.9/dist-packages (from rich>=10.11.0->streamlit) (2.14.0)\n",
            "Requirement already satisfied: pytz-deprecation-shim in /usr/local/lib/python3.9/dist-packages (from tzlocal>=1.1->streamlit) (0.1.0.post0)\n",
            "Requirement already satisfied: decorator>=3.4.0 in /usr/local/lib/python3.9/dist-packages (from validators>=0.2->streamlit) (4.4.2)\n",
            "Collecting smmap<6,>=3.0.1\n",
            "  Downloading smmap-5.0.0-py3-none-any.whl (24 kB)\n",
            "Requirement already satisfied: MarkupSafe>=2.0 in /usr/local/lib/python3.9/dist-packages (from jinja2->altair<5,>=3.2.0->streamlit) (2.1.2)\n",
            "Requirement already satisfied: attrs>=17.4.0 in /usr/local/lib/python3.9/dist-packages (from jsonschema>=3.0->altair<5,>=3.2.0->streamlit) (22.2.0)\n",
            "Requirement already satisfied: pyrsistent!=0.17.0,!=0.17.1,!=0.17.2,>=0.14.0 in /usr/local/lib/python3.9/dist-packages (from jsonschema>=3.0->altair<5,>=3.2.0->streamlit) (0.19.3)\n",
            "Requirement already satisfied: mdurl~=0.1 in /usr/local/lib/python3.9/dist-packages (from markdown-it-py<3.0.0,>=2.2.0->rich>=10.11.0->streamlit) (0.1.2)\n",
            "Requirement already satisfied: tzdata in /usr/local/lib/python3.9/dist-packages (from pytz-deprecation-shim->tzlocal>=1.1->streamlit) (2023.3)\n",
            "Building wheels for collected packages: validators\n",
            "  Building wheel for validators (setup.py) ... \u001b[?25l\u001b[?25hdone\n",
            "  Created wheel for validators: filename=validators-0.20.0-py3-none-any.whl size=19579 sha256=ff592a4e6dd27160cb3be9ab6fff687e9e62f337d768f10a1de2b273b67f81bb\n",
            "  Stored in directory: /root/.cache/pip/wheels/2d/f0/a8/1094fca7a7e5d0d12ff56e0c64675d72aa5cc81a5fc200e849\n",
            "Successfully built validators\n",
            "Installing collected packages: watchdog, validators, smmap, pympler, blinker, pydeck, gitdb, gitpython, streamlit\n",
            "Successfully installed blinker-1.6.2 gitdb-4.0.10 gitpython-3.1.31 pydeck-0.8.1b0 pympler-1.0.1 smmap-5.0.0 streamlit-1.21.0 validators-0.20.0 watchdog-3.0.0\n"
          ]
        }
      ]
    },
    {
      "cell_type": "code",
      "source": [
        "# %%writefile app.py\n",
        "# import streamlit as st\n",
        "# st.write('# Hello World')\n",
        "# st.write('## Run Streamlit on Colab without `ngrok` using `localtunnel`')"
      ],
      "metadata": {
        "id": "pTtw2HLaU1I4",
        "colab": {
          "base_uri": "https://localhost:8080/"
        },
        "outputId": "49ded70f-d035-496d-badd-08d49309a130"
      },
      "execution_count": null,
      "outputs": [
        {
          "output_type": "stream",
          "name": "stdout",
          "text": [
            "Writing app.py\n"
          ]
        }
      ]
    },
    {
      "cell_type": "code",
      "source": [
        "# !streamlit run app.py & npx localtunnel --port 8501"
      ],
      "metadata": {
        "id": "tQzDG-5gU1RR",
        "colab": {
          "base_uri": "https://localhost:8080/"
        },
        "outputId": "2242a68e-4c6e-4a7f-d56f-a50796a5418b"
      },
      "execution_count": null,
      "outputs": [
        {
          "output_type": "stream",
          "name": "stdout",
          "text": [
            "[..................] | fetchMetadata: sill resolveWithNewModule localtunnel@2.0\u001b[0m\u001b[K\n",
            "Collecting usage statistics. To deactivate, set browser.gatherUsageStats to False.\n",
            "\u001b[0m\n",
            "\u001b[0m\n",
            "\u001b[34m\u001b[1m  You can now view your Streamlit app in your browser.\u001b[0m\n",
            "\u001b[0m\n",
            "\u001b[34m  Network URL: \u001b[0m\u001b[1mhttp://172.28.0.12:8501\u001b[0m\n",
            "\u001b[34m  External URL: \u001b[0m\u001b[1mhttp://34.124.236.75:8501\u001b[0m\n",
            "\u001b[0m\n",
            "\u001b[K\u001b[?25hnpx: installed 22 in 5.299s\n",
            "your url is: https://twelve-tires-swim-34-124-236-75.loca.lt\n",
            "\u001b[34m  Stopping...\u001b[0m\n",
            "^C\n"
          ]
        }
      ]
    },
    {
      "cell_type": "code",
      "source": [
        "# # Import necessary libraries\n",
        "# import streamlit as st\n",
        "# import tensorflow as tf\n",
        "# from PIL import Image\n",
        "# import numpy as np\n",
        "\n",
        "# # Load the pre-trained model\n",
        "# model = tf.keras.models.load_model('/content/my_model2.hdf5')\n",
        "\n",
        "# # Define the Streamlit app\n",
        "# def app():\n",
        "#     st.title('My Image Classification App')\n",
        "#     # Define the user input\n",
        "#     uploaded_file = st.file_uploader(\"Choose an image...\", type=\"jpg\")\n",
        "#     if uploaded_file is not None:\n",
        "#         # Load the image\n",
        "#         image = Image.open(uploaded_file)\n",
        "#         # Resize the image to the input size of the model\n",
        "#         image = image.resize((224, 224))\n",
        "#         # Convert the image to a numpy array\n",
        "#         image_array = np.array(image)\n",
        "#         # Preprocess the image\n",
        "#         image_array = image_array / 255.0\n",
        "#         image_array = np.expand_dims(image_array, axis=0)\n",
        "#         # Make a prediction using the deep learning model\n",
        "#         prediction = model.predict(image_array)\n",
        "#         # Display the prediction\n",
        "#         st.write('Prediction:', prediction)\n",
        "\n",
        "# # Run the Streamlit app\n",
        "# if __name__ == '__main__':\n",
        "#     app()\n"
      ],
      "metadata": {
        "id": "w1SVDLDlX-GX",
        "colab": {
          "base_uri": "https://localhost:8080/"
        },
        "outputId": "a8de2358-87b1-4005-c5a9-d88fab2c20a5"
      },
      "execution_count": null,
      "outputs": [
        {
          "output_type": "stream",
          "name": "stderr",
          "text": [
            "WARNING:root:\n",
            "  \u001b[33m\u001b[1mWarning:\u001b[0m to view this Streamlit app on a browser, run it with the following\n",
            "  command:\n",
            "\n",
            "    streamlit run /usr/local/lib/python3.9/dist-packages/ipykernel_launcher.py [ARGUMENTS]\n",
            "2023-04-15 14:40:44.863 \n",
            "  \u001b[33m\u001b[1mWarning:\u001b[0m to view this Streamlit app on a browser, run it with the following\n",
            "  command:\n",
            "\n",
            "    streamlit run /usr/local/lib/python3.9/dist-packages/ipykernel_launcher.py [ARGUMENTS]\n"
          ]
        }
      ]
    },
    {
      "cell_type": "code",
      "source": [],
      "metadata": {
        "id": "Smjeo6MyWDlw"
      },
      "execution_count": null,
      "outputs": []
    }
  ]
}